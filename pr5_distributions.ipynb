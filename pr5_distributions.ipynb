{
 "cells": [
  {
   "cell_type": "markdown",
   "metadata": {},
   "source": [
    "# Distributions"
   ]
  },
  {
   "cell_type": "markdown",
   "metadata": {},
   "source": [
    "This page goes through some distributions that you may encounter during this year. "
   ]
  },
  {
   "cell_type": "markdown",
   "metadata": {},
   "source": [
    "## Discrete distributions"
   ]
  },
  {
   "cell_type": "markdown",
   "metadata": {},
   "source": [
    "### Bernoulli distribution"
   ]
  },
  {
   "cell_type": "markdown",
   "metadata": {},
   "source": [
    "The simplest discrete distribution that we are likely to encounter is the Bernouilli. The Bernoulli distribution corresponds to a single binary outcome (1=\"success\", 0=\"failure\"), with $P(X = 1) = \\pi$.\n",
    "\n",
    "The expectation and variance of a variable $X$ which follows a Bernoulli distribution are given by:\n",
    "\n",
    "- $E[X] = \\pi$\n",
    "- $Var(X) = \\pi(1-\\pi)$\n",
    "\n",
    "So if we randomly generate a value for $X$, it will either take the value of 0 or 1. If we do this many times (e.g. 50 times), then each of those 50 values will take the value either 0 or 1. On average, we expect the value to be $\\pi$. So if we simulate a large number of values, we expect the sample mean to be around $\\pi$. And we expect the sample variance to be around $\\pi(1-\\pi)$. \n",
    "\n",
    "The code below randomly generates values from a Bernoulli distribution. The first number is the number of values to draw (generate). The second number is always 1 for a Bernoulli distribution. The third number is the probability of success, $\\pi$. If you are reading this interactively, change the first and third number and see what happens to the individual values, sample mean and sample variance."
   ]
  },
  {
   "cell_type": "code",
   "execution_count": 1,
   "metadata": {},
   "outputs": [
    {
     "data": {
      "text/html": [
       "<ol class=list-inline>\n",
       "\t<li>0</li>\n",
       "\t<li>0</li>\n",
       "\t<li>1</li>\n",
       "\t<li>1</li>\n",
       "\t<li>1</li>\n",
       "\t<li>0</li>\n",
       "</ol>\n"
      ],
      "text/latex": [
       "\\begin{enumerate*}\n",
       "\\item 0\n",
       "\\item 0\n",
       "\\item 1\n",
       "\\item 1\n",
       "\\item 1\n",
       "\\item 0\n",
       "\\end{enumerate*}\n"
      ],
      "text/markdown": [
       "1. 0\n",
       "2. 0\n",
       "3. 1\n",
       "4. 1\n",
       "5. 1\n",
       "6. 0\n",
       "\n",
       "\n"
      ],
      "text/plain": [
       "[1] 0 0 1 1 1 0"
      ]
     },
     "metadata": {},
     "output_type": "display_data"
    },
    {
     "data": {
      "text/html": [
       "0.48"
      ],
      "text/latex": [
       "0.48"
      ],
      "text/markdown": [
       "0.48"
      ],
      "text/plain": [
       "[1] 0.48"
      ]
     },
     "metadata": {},
     "output_type": "display_data"
    },
    {
     "data": {
      "text/html": [
       "0.25469387755102"
      ],
      "text/latex": [
       "0.25469387755102"
      ],
      "text/markdown": [
       "0.25469387755102"
      ],
      "text/plain": [
       "[1] 0.2546939"
      ]
     },
     "metadata": {},
     "output_type": "display_data"
    }
   ],
   "source": [
    "X <- rbinom(50, 1, 0.48)\n",
    "head(X)\n",
    "mean(X)\n",
    "var(X)"
   ]
  },
  {
   "cell_type": "markdown",
   "metadata": {},
   "source": [
    "### Binomial distribution"
   ]
  },
  {
   "cell_type": "markdown",
   "metadata": {},
   "source": [
    "Now suppose we conduct many Bernoulli trials (we will call this number $n$) and combine the results together to form a single number --- the total number of \"successes\" among the $n$ trials. This number follows a Binomial distribution.\n",
    "\n",
    "If $X$ is the total number of successes from $n$ trials. Then $X$ follows a binomial distribution, \n",
    "\n",
    "$$\n",
    "X \\sim binomial(n; \\pi), \n",
    "$$\n",
    "\n",
    "The expectation and variance of a variable $X$ which follows a binomial distribution are given by:\n",
    "\n",
    "- $E[X] = n \\pi$\n",
    "- $Var(X) = n \\pi(1-\\pi)$\n",
    "\n",
    "The code below randomly generates values from a Binomial distribution. The first number is the number of values to draw (generate). The second number is the number of trials $n$. The third number is the probability of success, $\\pi$ within each trial. If you are reading this interactively, change the first and third number and see what happens to the individual values, sample mean and sample variance."
   ]
  },
  {
   "cell_type": "code",
   "execution_count": 2,
   "metadata": {},
   "outputs": [
    {
     "data": {
      "text/html": [
       "<ol class=list-inline>\n",
       "\t<li>6</li>\n",
       "\t<li>1</li>\n",
       "\t<li>4</li>\n",
       "\t<li>3</li>\n",
       "\t<li>6</li>\n",
       "\t<li>5</li>\n",
       "</ol>\n"
      ],
      "text/latex": [
       "\\begin{enumerate*}\n",
       "\\item 6\n",
       "\\item 1\n",
       "\\item 4\n",
       "\\item 3\n",
       "\\item 6\n",
       "\\item 5\n",
       "\\end{enumerate*}\n"
      ],
      "text/markdown": [
       "1. 6\n",
       "2. 1\n",
       "3. 4\n",
       "4. 3\n",
       "5. 6\n",
       "6. 5\n",
       "\n",
       "\n"
      ],
      "text/plain": [
       "[1] 6 1 4 3 6 5"
      ]
     },
     "metadata": {},
     "output_type": "display_data"
    },
    {
     "data": {
      "text/html": [
       "4.81"
      ],
      "text/latex": [
       "4.81"
      ],
      "text/markdown": [
       "4.81"
      ],
      "text/plain": [
       "[1] 4.81"
      ]
     },
     "metadata": {},
     "output_type": "display_data"
    },
    {
     "data": {
      "text/html": [
       "2.43828282828283"
      ],
      "text/latex": [
       "2.43828282828283"
      ],
      "text/markdown": [
       "2.43828282828283"
      ],
      "text/plain": [
       "[1] 2.438283"
      ]
     },
     "metadata": {},
     "output_type": "display_data"
    },
    {
     "data": {
      "image/png": "[encoded data removed]",
      "text/plain": [
       "Plot with title \"Histogram of X\""
      ]
     },
     "metadata": {},
     "output_type": "display_data"
    }
   ],
   "source": [
    "X <- rbinom(100, 10, 0.48)\n",
    "head(X)\n",
    "hist(X)\n",
    "mean(X)\n",
    "var(X)"
   ]
  },
  {
   "cell_type": "markdown",
   "metadata": {},
   "source": [
    "## Continuous distributions"
   ]
  },
  {
   "cell_type": "markdown",
   "metadata": {},
   "source": [
    "### The normal (Gaussian) distribution"
   ]
  },
  {
   "cell_type": "markdown",
   "metadata": {},
   "source": [
    "The normal distribution has a 'bell-shape'. It is centred around its mean, $\\mu$. The spread of the different values is determined by the variance, $\\sigma^2$.\n",
    "\n",
    "If a variable $X$ follows a normal distribution, we write\n",
    "\n",
    "$$\n",
    "X \\sim N(\\mu, \\sigma^2)\n",
    "$$\n",
    "\n",
    "The code below (in R) simulates 1000 observations from a normal distribution. If you are reading these notes interactively, try changing the values $\\mu$ and $\\sigma^2$ in the first two lines and see how the histogram of values change.\n",
    "\n",
    "If you would like to see the values generated, try adding the lines of code `head(r)` and `summary(r)`."
   ]
  },
  {
   "cell_type": "code",
   "execution_count": 13,
   "metadata": {},
   "outputs": [
    {
     "data": {
      "image/png": "[encoded data removed]",
      "text/plain": [
       "Plot with title \"Histogram of X\""
      ]
     },
     "metadata": {},
     "output_type": "display_data"
    }
   ],
   "source": [
    "mu <- 13\n",
    "sigma2 <- 5\n",
    "X <- rnorm(1000, mu, sigma2)\n",
    "hist(X)"
   ]
  }
 ],
 "metadata": {
  "kernelspec": {
   "display_name": "R",
   "language": "R",
   "name": "ir"
  },
  "language_info": {
   "codemirror_mode": "r",
   "file_extension": ".r",
   "mimetype": "text/x-r-source",
   "name": "R",
   "pygments_lexer": "r",
   "version": "3.6.1"
  }
 },
 "nbformat": 4,
 "nbformat_minor": 4
}
