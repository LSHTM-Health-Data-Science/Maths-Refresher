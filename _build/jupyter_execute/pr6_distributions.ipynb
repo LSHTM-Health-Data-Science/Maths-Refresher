{
 "cells": [
  {
   "cell_type": "markdown",
   "metadata": {},
   "source": [
    "# Distributions"
   ]
  },
  {
   "cell_type": "markdown",
   "metadata": {},
   "source": [
    "This page goes through some distributions that you may encounter during this year. This is to give a flavour of things to come; we do not expect you to know the details on this page when you start the programme."
   ]
  },
  {
   "cell_type": "markdown",
   "metadata": {},
   "source": [
    "## Parameters\n",
    "\n",
    "The word parameter refers to an unknown quantity. We often think about a parameter as being the \"true\" value, or the value that holds in a wider population of interest. \n",
    "\n",
    "Most distributions have one or more unknown parameters which define the distribution."
   ]
  },
  {
   "cell_type": "markdown",
   "metadata": {},
   "source": [
    "## Discrete distributions"
   ]
  },
  {
   "cell_type": "markdown",
   "metadata": {},
   "source": [
    "### Bernoulli distribution"
   ]
  },
  {
   "cell_type": "markdown",
   "metadata": {},
   "source": [
    "The simplest discrete distribution that we are likely to encounter is the Bernouilli. The Bernoulli distribution corresponds to a single binary outcome (1=\"success\", 0=\"failure\"), with $P(X = 1) = \\pi$.\n",
    "\n",
    "The expectation and variance of a variable $X$ which follows a Bernoulli distribution with parameter $\\pi$ are given by:\n",
    "\n",
    "- $E(X) = \\pi$\n",
    "- $Var(X) = \\pi(1-\\pi)$\n",
    "\n",
    "So if we randomly generate a value for $X$, it will either take the value of 0 or 1. If we do this many times (e.g. 50 times), then each of those 50 values will take the value either 0 or 1. On average, we expect the value to be $\\pi$. So if we simulate a large number of values, we expect the sample mean to be around $\\pi$. And we expect the sample variance to be around $\\pi(1-\\pi)$. \n",
    "\n",
    "The probability distribution function (PDF) of a Bernoulli variable is given by the single probability $P(X = 1) = \\pi$ (since this determines $P(X=0) = 1-\\pi$.\n",
    "\n",
    "The code below (in R) randomly generates values from a Bernoulli distribution. The first number is the number of values to draw (generate). The second number is always 1 for a Bernoulli distribution. The third number is the probability of success, $\\pi$. If you are reading this interactively, change the first and third number and see what happens to the individual values, sample mean and sample variance.\n",
    "\n",
    "The command `head(X)` displays the first few values of the object $X$ (i.e. it writes the first few values drawn for $X$ on screen, in this case the first six values drawn for $X$ were two zeros followed by three ones and another zero). The `mean(X)` and `var(X)` commands display the sample mean and sample variance of $X$."
   ]
  },
  {
   "cell_type": "code",
   "execution_count": 1,
   "metadata": {
    "execution": {
     "iopub.execute_input": "2020-08-04T17:33:26.955440Z",
     "iopub.status.busy": "2020-08-04T17:33:26.939853Z",
     "iopub.status.idle": "2020-08-04T17:33:26.993186Z",
     "shell.execute_reply": "2020-08-04T17:33:26.993186Z"
    }
   },
   "outputs": [
    {
     "data": {
      "text/html": [
       "<ol class=list-inline>\n",
       "\t<li>0</li>\n",
       "\t<li>0</li>\n",
       "\t<li>1</li>\n",
       "\t<li>1</li>\n",
       "\t<li>1</li>\n",
       "\t<li>0</li>\n",
       "</ol>\n"
      ],
      "text/latex": [
       "\\begin{enumerate*}\n",
       "\\item 0\n",
       "\\item 0\n",
       "\\item 1\n",
       "\\item 1\n",
       "\\item 1\n",
       "\\item 0\n",
       "\\end{enumerate*}\n"
      ],
      "text/markdown": [
       "1. 0\n",
       "2. 0\n",
       "3. 1\n",
       "4. 1\n",
       "5. 1\n",
       "6. 0\n",
       "\n",
       "\n"
      ],
      "text/plain": [
       "[1] 0 0 1 1 1 0"
      ]
     },
     "metadata": {},
     "output_type": "display_data"
    },
    {
     "data": {
      "text/html": [
       "0.38"
      ],
      "text/latex": [
       "0.38"
      ],
      "text/markdown": [
       "0.38"
      ],
      "text/plain": [
       "[1] 0.38"
      ]
     },
     "metadata": {},
     "output_type": "display_data"
    },
    {
     "data": {
      "text/html": [
       "0.240408163265306"
      ],
      "text/latex": [
       "0.240408163265306"
      ],
      "text/markdown": [
       "0.240408163265306"
      ],
      "text/plain": [
       "[1] 0.2404082"
      ]
     },
     "metadata": {},
     "output_type": "display_data"
    }
   ],
   "source": [
    "X <- rbinom(50, 1, 0.48)\n",
    "head(X)\n",
    "mean(X)\n",
    "var(X)"
   ]
  },
  {
   "cell_type": "markdown",
   "metadata": {},
   "source": [
    "### Binomial distribution"
   ]
  },
  {
   "cell_type": "markdown",
   "metadata": {},
   "source": [
    "Now suppose we conduct many Bernoulli trials (we will call this number $n$) and combine the results together to form a single number - the total number of \"successes\" among the $n$ trials. This number follows a Binomial distribution.\n",
    "\n",
    "If $X$ is the total number of successes from $n$ trials. Then $X$ follows a binomial distribution, \n",
    "\n",
    "$$\n",
    "X \\sim binomial(n; \\pi), \n",
    "$$\n",
    "\n",
    "The expectation and variance of a variable $X$ which follows a binomial distribution with parameter $\\pi$ and a fixed number of $n$ trials, are given by:\n",
    "\n",
    "- $E(X) = n \\pi$\n",
    "- $Var(X) = n \\pi(1-\\pi)$\n",
    "\n",
    "The probability distribution function $X$ is\n",
    "\n",
    "$$\n",
    "P(X=x) = \\begin{pmatrix}n \\\\ x \\end{pmatrix} \\pi^{x} (1-\\pi)^{n-x}, \\ \\ \\mbox{for} \\ \\ x=0,1,2,..,n.\n",
    "$$\n",
    "\n",
    "The code below randomly generates values from a binomial distribution. The first number is the number of values to draw (generate). The second number is the number of trials $n$. The third number is the probability of success, $\\pi$ within each trial. If you are reading this interactively, change the first and third number and see what happens to the individual values, sample mean and sample variance."
   ]
  },
  {
   "cell_type": "code",
   "execution_count": 2,
   "metadata": {
    "execution": {
     "iopub.execute_input": "2020-08-04T17:33:27.047728Z",
     "iopub.status.busy": "2020-08-04T17:33:26.993186Z",
     "iopub.status.idle": "2020-08-04T17:33:27.109091Z",
     "shell.execute_reply": "2020-08-04T17:33:27.109091Z"
    }
   },
   "outputs": [
    {
     "data": {
      "text/html": [
       "<ol class=list-inline>\n",
       "\t<li>4</li>\n",
       "\t<li>5</li>\n",
       "\t<li>5</li>\n",
       "\t<li>9</li>\n",
       "\t<li>6</li>\n",
       "\t<li>3</li>\n",
       "</ol>\n"
      ],
      "text/latex": [
       "\\begin{enumerate*}\n",
       "\\item 4\n",
       "\\item 5\n",
       "\\item 5\n",
       "\\item 9\n",
       "\\item 6\n",
       "\\item 3\n",
       "\\end{enumerate*}\n"
      ],
      "text/markdown": [
       "1. 4\n",
       "2. 5\n",
       "3. 5\n",
       "4. 9\n",
       "5. 6\n",
       "6. 3\n",
       "\n",
       "\n"
      ],
      "text/plain": [
       "[1] 4 5 5 9 6 3"
      ]
     },
     "metadata": {},
     "output_type": "display_data"
    },
    {
     "data": {
      "text/html": [
       "5.1"
      ],
      "text/latex": [
       "5.1"
      ],
      "text/markdown": [
       "5.1"
      ],
      "text/plain": [
       "[1] 5.1"
      ]
     },
     "metadata": {},
     "output_type": "display_data"
    },
    {
     "data": {
      "text/html": [
       "2.29292929292929"
      ],
      "text/latex": [
       "2.29292929292929"
      ],
      "text/markdown": [
       "2.29292929292929"
      ],
      "text/plain": [
       "[1] 2.292929"
      ]
     },
     "metadata": {},
     "output_type": "display_data"
    },
    {
     "data": {
      "image/png": "[encoded data removed]",
      "text/plain": [
       "Plot with title \"Histogram of X\""
      ]
     },
     "metadata": {
      "filenames": {
       "image/png": "C:\\Users\\emsuewil\\Documents\\Work\\Teaching\\MSc_HDS\\Statistics\\Maths_Refresher\\_build\\jupyter_execute\\pr6_distributions_9_3.png"
      }
     },
     "output_type": "display_data"
    }
   ],
   "source": [
    "X <- rbinom(100, 10, 0.48)\n",
    "head(X)\n",
    "hist(X)\n",
    "mean(X)\n",
    "var(X)"
   ]
  },
  {
   "cell_type": "markdown",
   "metadata": {},
   "source": [
    "### Poisson distribution"
   ]
  },
  {
   "cell_type": "markdown",
   "metadata": {},
   "source": [
    "The Poisson distribution is used to model the **number of events** occurring in a fixed time interval $T$ when:\n",
    "- events occur randomly in time,\n",
    "- they occur at a constant rate $\\lambda$ per unit time,\n",
    "- they occur independently of each other.\n",
    "\n",
    "A random variable $X$ which follows a Poisson distribution can therefore take any non-negative integer value. Examples where the Poisson distribution might be appropriate include:\n",
    "- Emissions from a radioactive source,\n",
    "- The number of deaths in a large cohort of people over a year,\n",
    "- The number of car accidents occurring in a city over a year.\n",
    "\n",
    "The parameter for the Poisson distribution is the expected number of events, $\\mu$. This can be calculated from the rate as $\\mu=\\lambda T$. Often, the time period of interest is equal to one unit (in whatever units of time we are measuring in) in which case $\\mu=\\lambda$. \n",
    "\n",
    "If $X$ is the total number of events occurring in a fixed interval $T$ at a constant rate $\\lambda$ with parameter $\\mu=\\lambda T$, then we write\n",
    "\n",
    "$$\n",
    "X \\sim \\mbox{Poisson}(\\mu)\n",
    "$$\n",
    "\n",
    "The expectation and variance of a variable $X$ which follows a Poisson distribution with parameter $\\mu$ are given by:\n",
    "\n",
    "- $E(X) = \\mu$\n",
    "- $Var(X) = \\mu$\n",
    "\n",
    "The probability distribution function of $X$ is \n",
    "\n",
    "$$\n",
    "P(X=x) = \\frac{\\mu^{x}}{x!} e^{-\\mu}, \\ \\ \\mbox{ for } \\ \\ x=0,1,2,...\n",
    "$$\n",
    "\n",
    "The code below randomly generates values from a Poisson distribution. The first number is the number of values to draw (generate). The second number is the number of trials $n$. The third number is the probability of success, $\\pi$ within each trial. If you are reading this interactively, change the first and third number and see what happens to the individual values, sample mean and sample variance."
   ]
  },
  {
   "cell_type": "code",
   "execution_count": 3,
   "metadata": {
    "execution": {
     "iopub.execute_input": "2020-08-04T17:33:27.109091Z",
     "iopub.status.busy": "2020-08-04T17:33:27.109091Z",
     "iopub.status.idle": "2020-08-04T17:33:27.171609Z",
     "shell.execute_reply": "2020-08-04T17:33:27.171609Z"
    }
   },
   "outputs": [
    {
     "data": {
      "text/html": [
       "<ol class=list-inline>\n",
       "\t<li>3</li>\n",
       "\t<li>0</li>\n",
       "\t<li>2</li>\n",
       "\t<li>4</li>\n",
       "\t<li>5</li>\n",
       "\t<li>0</li>\n",
       "</ol>\n"
      ],
      "text/latex": [
       "\\begin{enumerate*}\n",
       "\\item 3\n",
       "\\item 0\n",
       "\\item 2\n",
       "\\item 4\n",
       "\\item 5\n",
       "\\item 0\n",
       "\\end{enumerate*}\n"
      ],
      "text/markdown": [
       "1. 3\n",
       "2. 0\n",
       "3. 2\n",
       "4. 4\n",
       "5. 5\n",
       "6. 0\n",
       "\n",
       "\n"
      ],
      "text/plain": [
       "[1] 3 0 2 4 5 0"
      ]
     },
     "metadata": {},
     "output_type": "display_data"
    },
    {
     "data": {
      "text/html": [
       "3.02"
      ],
      "text/latex": [
       "3.02"
      ],
      "text/markdown": [
       "3.02"
      ],
      "text/plain": [
       "[1] 3.02"
      ]
     },
     "metadata": {},
     "output_type": "display_data"
    },
    {
     "data": {
      "text/html": [
       "3.39353535353535"
      ],
      "text/latex": [
       "3.39353535353535"
      ],
      "text/markdown": [
       "3.39353535353535"
      ],
      "text/plain": [
       "[1] 3.393535"
      ]
     },
     "metadata": {},
     "output_type": "display_data"
    },
    {
     "data": {
      "image/png": "[encoded data removed]",
      "text/plain": [
       "Plot with title \"Histogram of X\""
      ]
     },
     "metadata": {
      "filenames": {
       "image/png": "C:\\Users\\emsuewil\\Documents\\Work\\Teaching\\MSc_HDS\\Statistics\\Maths_Refresher\\_build\\jupyter_execute\\pr6_distributions_12_3.png"
      }
     },
     "output_type": "display_data"
    }
   ],
   "source": [
    "X <- rpois(100, 3)\n",
    "head(X)\n",
    "hist(X)\n",
    "mean(X)\n",
    "var(X)"
   ]
  },
  {
   "cell_type": "markdown",
   "metadata": {},
   "source": [
    "### Hypergeometric distribution\n",
    "\n",
    "In health settings, this distribution is perhaps less commonly used than the Bernoulli, binomial and Poisson.\n",
    "\n",
    "When the population size $N$ and number of successes in the population $M$ are large, the variable $X$ recording the number of successes in a sample of size $n$ has a binomial distribution (see above). This approximate result fails when the population size $N$ is small. Suppose then that we have a population of size $N$, with $M$ individuals having the characteristic corresponding to \"success\", i.e. $M$ out of $N$ individuals in the population have a particular disease. We do not assume that $N$ and $M$ are large. \n",
    "\n",
    "Let $X$ be the random variable recording the number of individuals with the disease of interest in a sample of size $n$ from a population of size $N$, of which $M$ individuals have the disease. Then $X$ follows a hypergeometric distribution.\n",
    "\n",
    "$$\n",
    "X \\sim hypergeometric(M,N,n)\n",
    "$$\n",
    "\n",
    "and\n",
    "\n",
    "$$\n",
    "P(X=x) = \\frac{\\begin{pmatrix}M \\\\ x \\end{pmatrix} \\begin{pmatrix}N-M \\\\ n-x \\end{pmatrix}}{\\begin{pmatrix}N \\\\ n \\end{pmatrix}} \\ \\ \\mbox{for}  \\ \\ x = 0, 1, ..., n \n",
    "$$"
   ]
  },
  {
   "cell_type": "markdown",
   "metadata": {},
   "source": [
    "## Continuous distributions"
   ]
  },
  {
   "cell_type": "markdown",
   "metadata": {},
   "source": [
    "### The normal (Gaussian) distribution"
   ]
  },
  {
   "cell_type": "markdown",
   "metadata": {},
   "source": [
    "The normal (Gaussian) distribution is arguably the most important probability distribution in statistics. It lies at the heart of the modelling assumptions of linear regression and plays a critical role in statistical inference because of the Central Limit Theorem.\n",
    "\n",
    "The normal distribution has a 'bell-shape'. It is centred around its mean, $\\mu$. The spread of the different values is determined by the variance, $\\sigma^2$.\n",
    "\n",
    "If a variable $X$ follows a normal distribution, with parameters $\\mu$ and $\\sigma^2$, we write\n",
    "\n",
    "$$\n",
    "X \\sim N(\\mu, \\sigma^2)\n",
    "$$\n",
    "\n",
    "The expectation and variance of a variable $X$ which follows a normal distribution with parameters $\\mu$ and $\\sigma^2$ are given by:\n",
    "\n",
    "- $E(X) = \\mu$\n",
    "- $Var(X) = \\sigma^2$\n",
    "\n",
    "The probability distribution function of $X$ is \n",
    "\n",
    "$$ \n",
    "f(x) = \\frac{1}{\\sqrt{2 \\pi \\sigma^2}} e^{\\frac{(x - \\mu)^2}{2 \\sigma^2}}\n",
    "$$\n",
    "\n",
    "\n",
    "The code below randomly draws 1000 observations from a normal distribution. If you are reading these notes interactively, try changing the values $\\mu$ and $\\sigma^2$ in the first two lines and see how the histogram of values change.\n",
    "\n",
    "If you would like to see the values generated, try adding the lines of code `head(r)` and `summary(r)`."
   ]
  },
  {
   "cell_type": "code",
   "execution_count": 4,
   "metadata": {
    "execution": {
     "iopub.execute_input": "2020-08-04T17:33:27.187203Z",
     "iopub.status.busy": "2020-08-04T17:33:27.171609Z",
     "iopub.status.idle": "2020-08-04T17:33:27.224959Z",
     "shell.execute_reply": "2020-08-04T17:33:27.224959Z"
    }
   },
   "outputs": [
    {
     "data": {
      "image/png": "[encoded data removed]",
      "text/plain": [
       "Plot with title \"Histogram of X\""
      ]
     },
     "metadata": {
      "filenames": {
       "image/png": "C:\\Users\\emsuewil\\Documents\\Work\\Teaching\\MSc_HDS\\Statistics\\Maths_Refresher\\_build\\jupyter_execute\\pr6_distributions_17_0.png"
      }
     },
     "output_type": "display_data"
    }
   ],
   "source": [
    "mu <- 13\n",
    "sigma2 <- 5\n",
    "X <- rnorm(1000, mu, sigma2)\n",
    "hist(X)"
   ]
  },
  {
   "cell_type": "markdown",
   "metadata": {},
   "source": [
    "#### The standard normal distribution\n",
    "\n",
    "A special case of the normal distribution is the **standard normal**, which is a normal distribution with mean 0 and variance 1. We often use the letter $Z$ to denote a variable that follows a standard normal distribution. For a standard normal variable, $Z$, 95% of the distribution is contained between -1.96 and +1.96:\n",
    "\n",
    "$$\n",
    "P(-1.96 < Z < 1.96) = 0.95\n",
    "$$\n",
    "\n",
    "A useful property of normal distributions is that any normal distribution can be transformed to the standard normal distribution by subtracting the mean and dividing through by the standard deviation. So if \n",
    "\n",
    "$$\n",
    "X \\sim N(\\mu, \\sigma^2)\n",
    "$$\n",
    "\n",
    "then \n",
    "\n",
    "$$\n",
    "\\frac{X - \\mu}{\\sigma} \\sim N(0, 1)\n",
    "$$\n",
    "\n",
    "One consequence of this is that for any normal distribution, 95% of the observations are contained within $\\pm 1.96 \\sigma$ of the mean $\\mu$.\n"
   ]
  },
  {
   "cell_type": "markdown",
   "metadata": {},
   "source": [
    "### The exponential distribution\n",
    "\n",
    "Suppose the number of events in a period follow a Poisson distribution and occur at rate $\\lambda$, with $\\lambda>0$. Consider the time between two consecutive events. The mean can be shown to be $1/\\lambda$, and the distribution is called the exponential. \n",
    "\n",
    "If a variable $X$ follows an exponential distribution, with parameter $\\lambda$, we write\n",
    "\n",
    "$$\n",
    "X \\sim Exp(\\lambda)\n",
    "$$\n",
    "\n",
    "The expectation and variance of a variable $X$ which follows a normal distribution with parameters $\\mu$ and $\\sigma^2$ are given by:\n",
    "\n",
    "- $E(X) = \\frac{1}{\\lambda}$\n",
    "- $Var(X) = \\frac{1}{\\lambda^2}$\n",
    "\n",
    "The probability distribution function of $X$ is \n",
    "\n",
    "$$ \n",
    "f(x) =\\lambda e^{-\\lambda x} \\ \\ \\mbox{for} \\ \\ x>0\n",
    "$$"
   ]
  },
  {
   "cell_type": "code",
   "execution_count": 5,
   "metadata": {
    "execution": {
     "iopub.execute_input": "2020-08-04T17:33:27.240583Z",
     "iopub.status.busy": "2020-08-04T17:33:27.240583Z",
     "iopub.status.idle": "2020-08-04T17:33:27.293949Z",
     "shell.execute_reply": "2020-08-04T17:33:27.293949Z"
    }
   },
   "outputs": [
    {
     "data": {
      "image/png": "[encoded data removed]",
      "text/plain": [
       "Plot with title \"Histogram of X\""
      ]
     },
     "metadata": {
      "filenames": {
       "image/png": "C:\\Users\\emsuewil\\Documents\\Work\\Teaching\\MSc_HDS\\Statistics\\Maths_Refresher\\_build\\jupyter_execute\\pr6_distributions_20_0.png"
      }
     },
     "output_type": "display_data"
    }
   ],
   "source": [
    "rate <- 30\n",
    "X <- rexp(1000, rate)\n",
    "hist(X)"
   ]
  },
  {
   "cell_type": "markdown",
   "metadata": {},
   "source": [
    "### Student's t-distribution\n",
    "\n",
    "Student's t-distribution arises as the ratio of the sample mean to its standard error, which you will learn more about in the inference course. The t-distribution has a complex density function which we shall not state here. \n",
    "\n",
    "For now we note that the t-distribution has an additional parameter of sorts, known as the *degrees of freedom* (d.f.). The density function is similar to that of the standard normal, but the t-distribution has heavier tails. We often use $T$ to denote a variable which follows a t-distribution. If $T$ follows a t-distribution with $\\nu$ degrees of freedom, we write\n",
    "\n",
    "$$\n",
    "T \\sim t_\\nu\n",
    "$$\n",
    "\n",
    "The expectation and variance of a variable $X$ which follows a t-distribution with $\\nu$ degrees of freedom are given by:\n",
    "\n",
    "- $E(T) = 0$\n",
    "- $Var(T) = \\frac{\\nu}{\\nu - 2}$ if $\\nu >2$; $\\infty$ for $1<\\nu \\leq 2$; undefined otherwise \n",
    "\n",
    "As the number of degrees of freedom increases the t-distribution gets closer and closer to the standard normal distribution. In the code below (if using interactively), try decreasing and increasing the degrees of freedom to see how the shape of the distribution changes."
   ]
  },
  {
   "cell_type": "code",
   "execution_count": 6,
   "metadata": {
    "execution": {
     "iopub.execute_input": "2020-08-04T17:33:27.293949Z",
     "iopub.status.busy": "2020-08-04T17:33:27.293949Z",
     "iopub.status.idle": "2020-08-04T17:33:27.340816Z",
     "shell.execute_reply": "2020-08-04T17:33:27.340816Z"
    }
   },
   "outputs": [
    {
     "data": {
      "image/png": "[encoded data removed]",
      "text/plain": [
       "Plot with title \"Histogram of T\""
      ]
     },
     "metadata": {
      "filenames": {
       "image/png": "C:\\Users\\emsuewil\\Documents\\Work\\Teaching\\MSc_HDS\\Statistics\\Maths_Refresher\\_build\\jupyter_execute\\pr6_distributions_22_0.png"
      }
     },
     "output_type": "display_data"
    }
   ],
   "source": [
    "df <- 18\n",
    "T <- rt(1000, 18)\n",
    "hist(T)"
   ]
  },
  {
   "cell_type": "markdown",
   "metadata": {},
   "source": [
    "### Chi-squared distribution\n",
    "\n",
    "The chi-squared distribution with $n$ degrees of freedom arises as the sum of $n$ independent standard normal variables. \n",
    "\n",
    "Thus if $X_{1},..,X_{n} \\sim N(0,1)$ and are independent and\n",
    "\n",
    "$$\n",
    "Q = \\sum^{n}_{i=1} X^{2}_{i} \n",
    "$$\n",
    "\n",
    "Then $Q$ follows a chi-squared distribution on $n$ degrees of freedom. We write\n",
    "\n",
    "$$\n",
    "Q \\sim \\chi^{2}_{n}\n",
    "$$\n",
    "\n",
    "The expectation and variance of $Q$ are given by:\n",
    "\n",
    "- $E(Q) = n$\n",
    "- $Var(Q) = 2 n$\n",
    "\n",
    "The probability distribution function is complex and not stated here. \n",
    "\n",
    "The chi-squared distribution is used in a number of areas of statistics, such as when estimating the variance of a normal distribution, and in hypothesis testing to examine if there is evidence of an association between two categorical variables.\n"
   ]
  },
  {
   "cell_type": "code",
   "execution_count": 7,
   "metadata": {
    "execution": {
     "iopub.execute_input": "2020-08-04T17:33:27.340816Z",
     "iopub.status.busy": "2020-08-04T17:33:27.340816Z",
     "iopub.status.idle": "2020-08-04T17:33:27.393957Z",
     "shell.execute_reply": "2020-08-04T17:33:27.393957Z"
    }
   },
   "outputs": [
    {
     "data": {
      "image/png": "[encoded data removed]",
      "text/plain": [
       "Plot with title \"Histogram of Q\""
      ]
     },
     "metadata": {
      "filenames": {
       "image/png": "C:\\Users\\emsuewil\\Documents\\Work\\Teaching\\MSc_HDS\\Statistics\\Maths_Refresher\\_build\\jupyter_execute\\pr6_distributions_24_0.png"
      }
     },
     "output_type": "display_data"
    }
   ],
   "source": [
    "df <- 18\n",
    "Q <- rchisq(1000, 18)\n",
    "hist(Q)"
   ]
  },
  {
   "cell_type": "markdown",
   "metadata": {},
   "source": [
    "### The F-distribution\n",
    "\n",
    "The F distribution arises as the ratio of two independent chi-squared distributions. \n",
    "\n",
    "Suppose $U_{1} \\sim \\chi^{2}_{n}$, $U_{2} \\sim \\chi^{2}_{m}$ and $U_{1},U_{2}$ are independent, then:\n",
    "\n",
    "$$\n",
    "F = \\frac{U_{1}/n}{U_{2}/m}\n",
    "$$\n",
    "\n",
    "We write $F \\sim F_{n,m}$. \n",
    "\n",
    "The F-distribution arises when performing hypothesis tests in an analysis of variance and linear regression."
   ]
  },
  {
   "cell_type": "code",
   "execution_count": 8,
   "metadata": {
    "execution": {
     "iopub.execute_input": "2020-08-04T17:33:27.393957Z",
     "iopub.status.busy": "2020-08-04T17:33:27.393957Z",
     "iopub.status.idle": "2020-08-04T17:33:27.456445Z",
     "shell.execute_reply": "2020-08-04T17:33:27.456445Z"
    }
   },
   "outputs": [
    {
     "data": {
      "image/png": "[encoded data removed]",
      "text/plain": [
       "Plot with title \"Histogram of F\""
      ]
     },
     "metadata": {
      "filenames": {
       "image/png": "C:\\Users\\emsuewil\\Documents\\Work\\Teaching\\MSc_HDS\\Statistics\\Maths_Refresher\\_build\\jupyter_execute\\pr6_distributions_26_0.png"
      }
     },
     "output_type": "display_data"
    }
   ],
   "source": [
    "df1 <- 4\n",
    "df2 <- 9\n",
    "U1 <- rchisq(1000, df1)\n",
    "U2 <- rchisq(1000, df2)\n",
    "F <-(U1/df1)/(U2/df2)\n",
    "hist(F)"
   ]
  },
  {
   "cell_type": "markdown",
   "metadata": {},
   "source": [
    "### The Beta distribution\n",
    "\n",
    "The beta distribution is a continuous probability distribution with two parameters, often called shape parameters since they control the shape of the distribution. If $X$ follows a Beta distribution, we write\n",
    "\n",
    "$$\n",
    "X\\sim Beta(\\alpha, \\beta)\n",
    "$$\n",
    "\n",
    "The density of the Beta distribution is:\n",
    "\n",
    "$$\n",
    "f(x) = \\frac{1}{B(\\alpha, \\beta)} \\ x^{\\alpha - 1} (1 - x)^{\\beta - 1}, \\qquad \\mbox{for} \\ \\ x \\in [0,1]\n",
    "$$\n",
    "\n",
    "The Beta function, $B(\\alpha, \\beta)$ is a normalisation constant to ensure that the integral from 0 to 1 is equal to 1. \n",
    "\n",
    "The Beta distribution appears frequently in Bayesian inference. It can also be used to model percentages and proportions. The expectation and variance is given by:\n",
    "\n",
    "- $E(X) = n$\n",
    "- $Var(X) = 2 n$"
   ]
  },
  {
   "cell_type": "code",
   "execution_count": 9,
   "metadata": {
    "execution": {
     "iopub.execute_input": "2020-08-04T17:33:27.456445Z",
     "iopub.status.busy": "2020-08-04T17:33:27.456445Z",
     "iopub.status.idle": "2020-08-04T17:33:27.509817Z",
     "shell.execute_reply": "2020-08-04T17:33:27.494192Z"
    }
   },
   "outputs": [
    {
     "data": {
      "image/png": "[encoded data removed]",
      "text/plain": [
       "Plot with title \"Histogram of X\""
      ]
     },
     "metadata": {
      "filenames": {
       "image/png": "C:\\Users\\emsuewil\\Documents\\Work\\Teaching\\MSc_HDS\\Statistics\\Maths_Refresher\\_build\\jupyter_execute\\pr6_distributions_28_0.png"
      }
     },
     "output_type": "display_data"
    }
   ],
   "source": [
    "alpha <- 10\n",
    "beta <- 2\n",
    "\n",
    "X <- rbeta(1000, alpha, beta, ncp = 0)\n",
    "\n",
    "hist(X)"
   ]
  },
  {
   "cell_type": "code",
   "execution_count": null,
   "metadata": {},
   "outputs": [],
   "source": []
  }
 ],
 "metadata": {
  "kernelspec": {
   "display_name": "R",
   "language": "R",
   "name": "ir"
  },
  "language_info": {
   "codemirror_mode": "r",
   "file_extension": ".r",
   "mimetype": "text/x-r-source",
   "name": "R",
   "pygments_lexer": "r",
   "version": "3.6.1"
  }
 },
 "nbformat": 4,
 "nbformat_minor": 4
}