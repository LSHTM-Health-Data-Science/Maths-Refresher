{
 "cells": [
  {
   "cell_type": "markdown",
   "metadata": {},
   "source": [
    "# Maths refresher session"
   ]
  },
  {
   "cell_type": "markdown",
   "metadata": {},
   "source": [
    "## Functions and calculus "
   ]
  },
  {
   "cell_type": "markdown",
   "metadata": {},
   "source": [
    "### Exponential rules"
   ]
  },
  {
   "cell_type": "markdown",
   "metadata": {},
   "source": [
    "$$a^m \\times a^n = a^{m + n}$$\n",
    "\n",
    "$$a^{-m}  = \\frac{1}{a^m}$$\n",
    "\n",
    "$$\\frac{a^m}{a^n} = a^{m – n}$$\n",
    "\n",
    "$$(a^m)^n = a^{mn}$$\n",
    "\n",
    "$$(ab)^m  = a^m b^m$$\n",
    "\n",
    "$$a^0 = 1$$"
   ]
  },
  {
   "cell_type": "markdown",
   "metadata": {},
   "source": [
    "### Logarithm rules"
   ]
  },
  {
   "cell_type": "markdown",
   "metadata": {},
   "source": [
    "$$log (ab) = log(a) + log(b)$$\n",
    "\n",
    "$$log \\left(\\frac{a}{b}\\right) = log(a) – log(b)$$\n",
    "\n",
    "$$log (a^n) = n log(a)$$\n",
    "        \n",
    "$$log_a (a) = 1$$\n",
    "\n",
    "$$log_a(1) = 0$$\n",
    "\n",
    "We often use natural logarithms. This is sometimes written as $log_e(x)$ or more often $ln(x)$. Sometimes, $log(x)$ is used to refer to the natural logarithm but where possible we will try to use the unambiguous notation."
   ]
  },
  {
   "cell_type": "markdown",
   "metadata": {},
   "source": [
    "### Summation and product functions"
   ]
  },
  {
   "cell_type": "markdown",
   "metadata": {},
   "source": [
    "The summation notation is a convenient and concise way of writing sums. For two integers, $a$ and $b$, with $a\\leq b$, and a function $f(.)$ the general notation is:\n",
    "$$\\sum_{i=a}^b f(i) = f(a) + f(a+1) + \\cdots + f(b)$$\n",
    "So, for example, \n",
    "$$\\sum_{i=2}^3 \\frac{e^i \\lambda^i}{i!} = \\frac{e^2 \\lambda^2}{2!} + \\frac{e^3 \\lambda^3}{3!}$$\n",
    "\n",
    "An example that you are likely to encounter frequently is the sum of $x_1$, $x_2$, until $x_n$, \n",
    "$$\\sum_{i=1}^n x_i = (x_1 + x_2 + x_3 + \\cdots + x_n)$$\n",
    "\n",
    "Two useful rules are:\n",
    "$$\\sum_{i=1}^n (a x_i) = a \\sum_{i=1}^{n} x_i$$\n",
    "and\n",
    "$$\\sum_{i=1}^n a = n a$$\t\n"
   ]
  },
  {
   "cell_type": "markdown",
   "metadata": {},
   "source": [
    "Similarly, the product notation allows us to summarise long multiplications. The product of $x_1$, $x_2$, etc. until $x_n$, for example, can be written\n",
    "$$\\prod_{i=1}^n x_i = (x_1 \\times x_2 \\times x_3 \\times \\cdots \\times x_n)$$\n",
    "\n",
    "A useful multiplication rule is:\n",
    "$$\\prod_{i=1}^n (a x_i) = a^n \\prod_{i=1}^n x_i$$\n"
   ]
  },
  {
   "cell_type": "markdown",
   "metadata": {},
   "source": [
    "### Some rules for differentiation"
   ]
  },
  {
   "cell_type": "markdown",
   "metadata": {},
   "source": [
    "Some simple rules are:\n",
    "$$\\frac{d}{dx} a = 0$$\n",
    "$$\\frac{d}{dx} (a x) = a$$\n",
    "$$\\frac{d}{dx} x^n = n x^{n – 1}$$\n",
    "$$\\frac{d}{dx} log_e(x) = \\frac{1}{x}$$\n",
    "$$\\frac{d}{dx} e^x  = e^x$$\n",
    "\n",
    "And some rules about dealing with differentiating functions, sums and products:\n",
    "$$\\frac{d}{dx} e^{F(x)} = \\frac{dF(x)}{dx} e^{F(x)} = F’(x) e^{F(x)}$$\n",
    "$$\\frac{d}{dx} (F(x)+L(x)) =  F’(x) + L’(x)$$\n",
    "$$\\frac{d}{dx} (F(x) . L(x)) = L(x).F’(x) + F(x).L’(x)$$\n",
    "$$\\frac{d}{dx} \\left(\\frac{F(x)}{L(x)}\\right) = \\frac{(F'(x))}{(L(x))} -  \\frac{(F(x).L'(x))}{([L(x)]^2)}$$\n",
    "or\n",
    "$$\\frac{d}{dx} \\left(\\frac{F(x)}{L(x)}\\right) = \\frac{(F'(x)L(x) - L'(x)F(x))}{(L(x)^2)}$$\n",
    "\n",
    "In general, the chain rule is very helpful.\n",
    "$$\\mbox{The chain rule}: \\frac{dy}{dx} = \\frac{dy}{du} \\times \\frac{du}{dx}$$\n"
   ]
  },
  {
   "cell_type": "markdown",
   "metadata": {},
   "source": [
    "### Note on partial differentiation\n",
    "\n",
    "Suppose we have a function, $F$, of two variables, $x$ and $y$. \n",
    "\n",
    "We can differentiate the function $F$ with respect to $x$, $\\frac{\\partial F}{\\partial x}$. This means we differentiate $F$ with respect to $x$ and consider all other variables (i.e. $y$) to be fixed. \n",
    "\n",
    "Similarly, we can obtain the partial derivative of $F$ with respect to $y$, $\\frac{\\partial F}{\\partial y}$.\n",
    "\n",
    "There are now various second derivatives. We can differentiate with respect to $x$ twice, $\\frac{\\partial^2 F}{\\partial x^2}$, differentiate with respect to $y$ twice,  $\\frac{\\partial^2 F}{\\partial y^2}$, or differentiate with respect to $x$ and then differentiate with respect to $y$,  $\\frac{\\partial^2 F}{\\partial x \\partial y}$. Doing the last steps in the opposite order gives $\\frac{\\partial^2 F}{\\partial y \\partial x}$.\n",
    "\n"
   ]
  },
  {
   "cell_type": "markdown",
   "metadata": {},
   "source": [
    "## Matrices"
   ]
  },
  {
   "cell_type": "markdown",
   "metadata": {},
   "source": [
    "### Basic notation\n",
    "\n",
    "An $m \\times n$ matrix $A$ is a rectangular array of numbers with $m$ rows and $n$ columns:\n",
    "\n",
    "$$A=\\begin{pmatrix} a_{11} &\\cdots &a_{1n} \\\\\n",
    "\\vdots & &\\vdots \\\\\n",
    "a_{m1} &\\cdots &a_{mn} \\end{pmatrix}$$\n",
    "\n",
    "The elements of a matrix $A$ $(m\\times n)$ are $\\{a_{ij}; \\ \\ i=1,\\cdots,m \\ \\mbox{(rows)}, \\ \\ j=1,…,m \\ \\mbox{(columns)} \\}$. For example, the elements of the matrix\n",
    "$$A=\\begin{pmatrix} 1 &2 &3 \\\\\n",
    "4 &5 &6 \\end{pmatrix}$$\n",
    "are $a_{11}=1, a_{12}=2, a_{13}=3, a_{21}=4, a_{22}=5,$ and $a_{23}=6$.\n",
    "\n",
    "\n",
    "A **column vector** with $m$ elements, $y=\\begin{pmatrix}y_1 \\\\ y_2 \\\\ \\vdots \\\\y_m)\\end{pmatrix}$, is a matrix with only one column, i.e. an $m\\times1$ matrix.\n",
    "\n",
    "A **row vector** with $n$ elements, $x = \\begin{pmatrix}x_1 & \\cdots &x_n \\end{pmatrix}$, is a matrix with only one row, i.e. a $1\\times m$ matrix.\n"
   ]
  },
  {
   "cell_type": "markdown",
   "metadata": {},
   "source": [
    "### Basic definitions \n",
    "\n",
    "The **order** of a matrix is the number of rows by the number of columns i.e. $(m\\times n)$. For example,\n",
    "$$A=\\begin{pmatrix} 1 &2 &3 \\\\\n",
    "4 &5 &6 \\end{pmatrix}$$\n",
    "is a matrix of order $2\\times3$, and \n",
    "$$B=\\begin{pmatrix} 1 &2 \\\\\n",
    "3 &4 \\\\ 5 &6 \\end{pmatrix}$$\n",
    "is of order $3\\times 2$.\n",
    "\n",
    "A **transposed matrix** $A^T$ (or $A'$) arises from the matrix $A$ by interchanging the column vectors and the row vectors, i.e. $a_{ij}^T = a_{ji}$ (so a column vector is converted into a row vector and vice versa). For example,\n",
    "$x = \\begin{pmatrix} 1 &2 &3 \\end{pmatrix}$ is a $1\\times3$ row vector and $x^T =\\begin{pmatrix} 1 \\\\2 \\\\3 \\end{pmatrix}$ is a $3\\times1$ column vector,\n",
    "\n",
    "$A = \\begin{pmatrix} 1 &2 &3 \\\\ 4 &5 &6 \\end{pmatrix}$ is of order $2\\times3$ and  $A^T= \\begin{pmatrix} 1 &4 \\\\2 &5 \\\\3 &6 \\end{pmatrix}$  is of order $3\\times2$.\n",
    "\n",
    "A **partitioned matrix** is a matrix written in terms of sub-matrices. For example,\n",
    "\t$$A = \\begin{pmatrix} A_{11} &A_{12} \\\\ A_{21} &A_{22} \\end{pmatrix}$$\n",
    "where $A_{11}, A_{12}, A_{21} and A_{22}$ are sub-matrices, and\n",
    "- $A_{11}$ and $A_{12}$ have the same number of rows (as do $A_{21}$ and $A_{22}$)\n",
    "- $A_{11}$ and $A_{21}$ have the same number of columns (as do $A_{12}$ and $A_{22}$)\n",
    "\n",
    "For example, \n",
    "$$A =  \\begin{pmatrix} 1 &2 &3 &4 &5 \\\\ 6 &7 &8 &9 &10 \\\\ 11 &12 &13 &14 &15 \\end{pmatrix}$$\n",
    "can be written as  $$A= \\begin{pmatrix} A_{11} &A_{12} \\\\ A_{21} &A_{22}\\end{pmatrix}$$\n",
    "where \n",
    "$A_{11}=\\begin{pmatrix} 1&2&3 \\\\6&7&8  \\end{pmatrix}, A_{12} = \\begin{pmatrix}4&5 \\\\ 9&10  \\end{pmatrix}, A_{21}=\\begin{pmatrix} 11 &12 &13 \\end{pmatrix}$ and $A_{22}=\\begin{pmatrix} 14 &15 \\end{pmatrix}$.\n",
    "\n",
    "Note that partitioning is not restricted to dividing a matrix into just four sub-matrices.\n",
    "\n",
    "\n",
    "\n",
    "\n"
   ]
  },
  {
   "cell_type": "markdown",
   "metadata": {},
   "source": [
    "### Square matrices\n",
    "\n",
    "A **square matrix** has exactly as many rows as it has columns, i.e. the order of the matrix is $m\\times m$. For example,\n",
    "$$A= \\begin{pmatrix} 1&2\\\\3&4 \\end{pmatrix}$$\n",
    "is a square matrix of order $2\\times2$.\n",
    "\n",
    "The **main diagonal** (or leading diagonal) of a square matrix $A$ $(m\\times m)$ are the elements lying on the diagonal from top left to bottom right: $a_{11}, a_{22},\\cdots, a_{mm}$. i.e. all $a_{jj}$ for $j=1,\\cdots,m$. For example, the diagonal elements of matrix $$C=\\begin{pmatrix} 1&1&1 \\\\ 2&4&5 \\\\ 3&5&6 \\end{pmatrix}$$ are 1, 4 and 6.\n",
    "\n",
    "The **trace** of a square matrix is the sum of all the diagonal elements, i.e.\n",
    "$$tr(A)= a_{11}+ a_{22}+ \\cdots + a_{mm} = \\sum_{j=1}^m a_{jj}$$\n",
    "\n",
    "For example, $$A= \\begin{pmatrix} 1&2 \\\\ 3&4 \\end{pmatrix}$$ is a $2\\times2$ square matrix, the main diagonal of this matrix are the elements 1 and 4, so $tr(A)=1+4=5$.\n",
    "\n"
   ]
  },
  {
   "cell_type": "markdown",
   "metadata": {},
   "source": [
    "### Special matrices \n",
    "\n",
    "A **symmetric matrix** is a square matrix for which $a_{ij} = a_{ji}$ for $i\\neq j$, i.e. for all off-diagonal elements, so that the matrix is symmetric about the diagonal. For a symmetric matrix $A$, taking the transpose does not affect the matrix, $A^T= A$. For example, \n",
    "$$A=\\begin{pmatrix} 1&2&3\\\\2&4&5\\\\3&5&1\\end{pmatrix}$$\n",
    "is a $3\\times3$ symmetric matrix, and  $A^T= A$.\n",
    "\n",
    "A **diagonal matrix** is a square matrix where all the off-diagonal elements are zero, e.g.\n",
    "$$A=\\begin{pmatrix}1&0&0\\\\0&2&0\\\\0&0&3\\end{pmatrix}.$$\n",
    "\n",
    "A **zero** (or null) matrix is a matrix where all the elements are zero, e.g.\n",
    "$$A=\\begin{pmatrix}0&0&0\\\\0&0&0\\\\0&0&0\\end{pmatrix}.$$\n",
    "\n",
    "An **identity** (or unit) matrix is a special case of a diagonal matrix having all the diagonal elements equal to 1, e.g.  \n",
    "$$I=\\begin{pmatrix}1&0&0\\\\0&1&0\\\\0&0&1\\end{pmatrix}.$$\n",
    "The order of an identity matrix is sometimes indicated in the name, e.g. $I_m$ is the $m\\times m$ identity matrix.\n",
    "\n",
    "A **summing vector** is a vector where all elements are 1, e.g. $x=\\begin{pmatrix}1&1&1\\end{pmatrix}$.\n",
    "\n",
    "A **J** matrix is a matrix (not necessarily square) whose every element is 1, e.g.\n",
    "$$J=\\begin{pmatrix}1&1\\\\1&1\\\\1&1\\end{pmatrix}$$.\n"
   ]
  },
  {
   "cell_type": "markdown",
   "metadata": {},
   "source": [
    "### Basic operations for matrices\n",
    "\n",
    "Addition and subtraction can only take place when the matrices involved are of the same order, i.e. they have the same number of rows and columns:\n",
    "\n",
    "$$A\\pm B=\\begin{pmatrix}a_{11}&\\cdots&a_{1n}\\\\ \\vdots &&\\vdots \\\\a_{m1}&\\cdots&a_{mn} \\end{pmatrix} \\pm \\begin{pmatrix}b_{11}&\\cdots&b_{1n}\\\\\\vdots&&\\vdots \\\\b_{m1}&\\cdots&b_{mn} \\end{pmatrix} = \\begin{pmatrix}a_{11}\\pm b_{11}&\\cdots&a_{1n}\\pm b_{1n}\\\\ \\vdots&&\\vdots \\\\a_{m1}\\pm b_{m1}&\\cdots&a_{mn}\\pm b_{mn} \\end{pmatrix} .$$\n",
    "\n",
    "For example, if $A=\\begin{pmatrix} 1&3\\\\4&5\\end{pmatrix}$ and $B=\\begin{pmatrix} 0&1\\\\2&3\\end{pmatrix}$ where $A$ and $B$ are both of order $2\\times2$ then\t\n",
    "\n",
    "$$A+B=\\begin{pmatrix} 1+0&3+1\\\\4+2&5+3\\end{pmatrix}=\\begin{pmatrix} 1&4\\\\ 6&8\\end{pmatrix}  \\qquad \\mbox{and} \\qquad B-A=\\begin{pmatrix} 0-1&1-3\\\\2-4&3-5\\end{pmatrix}=\\begin{pmatrix}-1&-2 \\\\ -2&-2\\end{pmatrix}$$.\n",
    "\n",
    "Rules for addition and subtraction of matrices:\n",
    "\n",
    "- $A+B=B+A$\n",
    "- $(A+B)+C=A+(B+C)$\n",
    "- $A+0=0+A=A$\n",
    "- $A+(-A)=0$\n",
    "- $(A+B)^T=A^T+B^T$\n",
    "\n",
    "Multiplication by a scalar $c$ means multiplying every element of the matrix by $c$:\n",
    "\n",
    "$$cA=\\begin{pmatrix} ca_{11}&\\cdots&ca_{1n}\\\\ \\vdots&&\\vdots \\\\ca_{m1}&\\cdots&ca_{mn}\\end{pmatrix}.$$\n",
    "\n",
    "For example, if $A= \\begin{pmatrix}1&3\\\\4&5\\end{pmatrix}$ and $c = 2$ then $cA=\\begin{pmatrix}2\\times 1&2\\times 3\\\\2\\times 4&2\\times 5 \\end{pmatrix}=\\begin{pmatrix} 2&6\\\\8&10\\end{pmatrix}$.\n",
    "\n",
    "Rules for multiplication by a scalar:\n",
    "- $cA=Ac$\n",
    "- $d(cA)=(dc)A$\n",
    "- $(c\\pm d)A=cA\\pm dA$\n",
    "- $c(A\\pm B)=cA\\pm cB$\n",
    "\n",
    "\n",
    "**Multiplication by a vector** \n",
    "An $m\\times n$ matrix $A$ can be multiplied by $n\\times 1$ column vector $x$ yielding a $m\\times1$ column vector providing the number of columns in $A$ is equal to the number of rows in $x$:\n",
    "\n",
    "\n",
    "$$Ax=\\begin{pmatrix}a_{11}&\\cdots&a_{1n}\\\\ \\vdots&&\\vdots \\\\ a_{m1}&\\cdots&a_{mn}\\end{pmatrix} \\begin{pmatrix}x_{1}\\\\ \\vdots \\\\ a_{n}\\end{pmatrix} = \\begin{pmatrix} a_{11} x_{1} + a_{12} x_{2}+ \\cdots + a_{1n} x_{n} \\\\  \\vdots \\\\ a_{m1} x_{1} + a_{m2} x_{2}+ \\cdots + a_{mn} x_{n}  \\end{pmatrix}=y $$\n",
    "i.e. $y_i= \\sum_{j=1}^n (a_{ij} x_j)$ for $i=1,…,m$.\n",
    "\n",
    "For example, suppose $A= \\begin{pmatrix}1&2&3\\\\2&2&1\\end{pmatrix}$ and $x=\\begin{pmatrix}1\\\\2\\\\1\\end{pmatrix}$. Note that matrix $A$ is of order $2\\times3$ and column vector $x$ is of order $3\\times1$, i.e. the number of columns in $A$ is equal to the number of rows in $x$. Then the product $Ax$ is defined yielding a $2\\times1$ vector:\n",
    "\n",
    "$$Ax=\\begin{pmatrix}1&2&3\\\\2&2&1\\end{pmatrix}\\begin{pmatrix} 1\\\\2\\\\1\\end{pmatrix}\\begin{pmatrix}1\\times 1+2\\times2+ 3\\times1 \\\\ 2\\times1+2\\times2+ 1\\times1\\end{pmatrix}=\\begin{pmatrix}8 \\\\ 7  \\end{pmatrix}$$\n",
    "\n",
    "**Multiplication of matrices**\n",
    "The product $AB=C$ is defined only when the number of columns in $A$ is the same as the number of rows in $B$. The elements of $C$ are given as $$c_{ij}=\\sum_(k=1)^n a_{ik} b_{kj} \\qquad \\mbox{where} \\qquad i=1,…,m \\ \\mbox{and} \\  j=1,…,n.$$\n",
    "\n",
    "If $A$ is a matrix of order $m\\times n$, and $B$ is a matrix of order $n\\times r$, then the product $AB=C$ will be of order $m\\times r$. For example, if $A=\\begin{pmatrix} ■(1&2&3@2&2&1) )$,  i.e. of order $2\\times3$, and $B=( ■(1&2@2&3@3&4) )$, i.e. of order $3\\times2$,  then  \n",
    "\n",
    "$$AB=\\begin{pmatrix} 1&2&3 \\\\ 2&2&1\\end{pmatrix}\\begin{pmatrix}1&2 \\\\2&3 \\\\ 3&4\\end{pmatrix}=\\begin{pmatrix}1 \\times1+2\\times2+ 3\\times3&1\\times2+2\\times3+ 3\\times4\\\\ 2\\times1+2\\times2+ 1\\times3&2\\times2+2\\times3+ 1\\times4\\end{pmatrix}=\\begin{pmatrix}14&20 \\\\ 9&14\\end{pmatrix}$$\n",
    "\n",
    "which is of order $2\\times2$, as expected.\n",
    "\n",
    "Rules for multiplication of matrices:\n",
    "\n",
    "- $AB≠BA$\n",
    "- $(AB)C=A(BC)=ABC$\n",
    "- $A(B+C)=AB+AC$\n",
    "- $(B+C)A=BA+CA$\n",
    "- $IA=AI=A$ where $I$ is the identity matrix with the same number of rows (and columns since $I$ is square) as columns in $A$.\n",
    "\n",
    "\n",
    "\n"
   ]
  },
  {
   "cell_type": "markdown",
   "metadata": {},
   "source": [
    "## Further material\n",
    "\n",
    "### Functions and calculus\n",
    "\n",
    "Some potentially useful websites are listed below.\n",
    "\n",
    "1. The first website contains nice explanations of differentiation and integration.\n",
    "\n",
    "<https://revisionmaths.com/advanced-level-level-maths-revision>\n",
    "\n",
    "2. This next site contains additional exercises on differentiation and other topics which may be useful.\n",
    "<http://www.univie.ac.at/future.media/moe/tests.html>\n",
    "\n",
    "\n",
    "\n",
    "Some useful books are listed below. \n",
    "\n",
    "1. This book contains introductory chapters on basic algebra so it covers most relevant material (but it has no material on matrices).\n",
    "\n",
    "Quick Calculus 2nd Edition: A self-teaching guide by Kleppner & Ramsey; published by Wiley.\n",
    "\n",
    "2. This book is more expensive but thorough. \n",
    "\n",
    "Engineering Mathematics by K.A.Stroud and Dexter J. Booth. Published by Palgrave. 7th Edition.\n",
    "\n",
    "\n",
    "### Matrices\n",
    "\n",
    "Searle S.R. & Khuri A.I. (2017) Matrix Algebra useful for statistics. Second edition. John Wiley & Sons \n"
   ]
  }
 ],
 "metadata": {
  "kernelspec": {
   "display_name": "R",
   "language": "R",
   "name": "ir"
  },
  "language_info": {
   "codemirror_mode": "r",
   "file_extension": ".r",
   "mimetype": "text/x-r-source",
   "name": "R",
   "pygments_lexer": "r",
   "version": "3.6.1"
  }
 },
 "nbformat": 4,
 "nbformat_minor": 4
}
