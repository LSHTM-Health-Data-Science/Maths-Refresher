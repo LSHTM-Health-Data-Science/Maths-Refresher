{
 "cells": [
  {
   "cell_type": "markdown",
   "metadata": {
    "hideCode": false,
    "hideOutput": true,
    "hidePrompt": true
   },
   "source": [
    "### Quiz 3: More complex differentiation and integration\n",
    "\n",
    "\n",
    "<br>\n",
    "Before attempting the questions below you need to run the whole notebook (click \"Cell\" from the dropdown menus and then choose \"Run All\"). \n",
    "\n",
    "##  Preamble\n",
    "This first bit of code installs the required packages. "
   ]
  },
  {
   "cell_type": "code",
   "execution_count": 147,
   "metadata": {},
   "outputs": [
    {
     "name": "stderr",
     "output_type": "stream",
     "text": [
      "Enabling notebook extension jupyter-js-widgets/extension...\n",
      "      - Validating: ok\n"
     ]
    }
   ],
   "source": [
    "!pip install -U -q ipywidgets\n",
    "!jupyter nbextension enable --py widgetsnbextension"
   ]
  },
  {
   "cell_type": "markdown",
   "metadata": {},
   "source": [
    "Import required functions."
   ]
  },
  {
   "cell_type": "code",
   "execution_count": 148,
   "metadata": {},
   "outputs": [],
   "source": [
    "import ipywidgets as widgets\n",
    "import sys\n",
    "from IPython.display import display\n",
    "from IPython.display import clear_output"
   ]
  },
  {
   "cell_type": "markdown",
   "metadata": {},
   "source": [
    "Load up the solutions and multiple choice question function."
   ]
  },
  {
   "cell_type": "code",
   "execution_count": 149,
   "metadata": {},
   "outputs": [],
   "source": [
    "%%capture \n",
    "%run ./Solutions.ipynb "
   ]
  },
  {
   "cell_type": "markdown",
   "metadata": {
    "hideCode": true
   },
   "source": [
    "## Quiz\n",
    "\n",
    "This quiz tests materials in the notebook: \n",
    "[Maths refresher](http://localhost:8890/notebooks/Documents/Work/Teaching/MSc_HDS/Statistics/Test_notebooks/maths_refresher.ipynb). If you are struggling with the questions go back and re-read the relevant material.\n",
    "\n",
    "Each question is initially set to a default value. Choose the correct value and press submit."
   ]
  },
  {
   "cell_type": "markdown",
   "metadata": {},
   "source": [
    "Find the derivative of $$\\frac{d }{d \\theta} \\frac{\\sum_i x_i}{\\theta}$$"
   ]
  },
  {
   "cell_type": "markdown",
   "metadata": {},
   "source": [
    "$$\\frac{d}{d \\mu} \\left( log⁡(\\mu) \\sum_i (y_i^2-a) \\right)$$"
   ]
  },
  {
   "cell_type": "markdown",
   "metadata": {},
   "source": [
    "$$\\frac{d}{d\\theta} (log⁡(\\theta^2))$$"
   ]
  },
  {
   "cell_type": "markdown",
   "metadata": {},
   "source": [
    "$$\\frac{d}{d \\mu} \\{\\mu log⁡(\\theta)+ \\theta log⁡(\\mu)\\}$$"
   ]
  },
  {
   "cell_type": "markdown",
   "metadata": {},
   "source": [
    "$$\\frac{d}{d \\sigma^2} (2 \\sigma^2)$$"
   ]
  },
  {
   "cell_type": "markdown",
   "metadata": {},
   "source": [
    "$$\\frac{d}{d \\sigma}(2 \\sigma^2)$$"
   ]
  },
  {
   "cell_type": "markdown",
   "metadata": {},
   "source": [
    "Question 8: Suppose we have a vector $\\alpha = (\\alpha_1, \\alpha_2, ..., \\alpha_J)^T$ and a function $\\mu = \\sum_{j=1}^J \\alpha_j  x_j$. \n",
    "\n",
    "For a particular value $1 \\leq k \\leq J$, what is the partial derivative $\\frac{\\partial \\mu}{\\partial \\alpha_k}$? Is it:\n",
    "\n",
    "1. $x_k$\n",
    "2. $x_j$\n",
    "3. $x_j \\alpha_j$\n",
    "4. $x_k \\alpha_k$"
   ]
  },
  {
   "cell_type": "code",
   "execution_count": 159,
   "metadata": {},
   "outputs": [
    {
     "ename": "KeyError",
     "evalue": "'Q2_8'",
     "output_type": "error",
     "traceback": [
      "\u001b[1;31m---------------------------------------------------------------------------\u001b[0m",
      "\u001b[1;31mKeyError\u001b[0m                                  Traceback (most recent call last)",
      "\u001b[1;32m<ipython-input-159-f1273e35ec89>\u001b[0m in \u001b[0;36m<module>\u001b[1;34m\u001b[0m\n\u001b[1;32m----> 1\u001b[1;33m \u001b[0mdisplay\u001b[0m\u001b[1;33m(\u001b[0m\u001b[0mqs2\u001b[0m\u001b[1;33m[\u001b[0m\u001b[1;34m\"Q2_8\"\u001b[0m\u001b[1;33m]\u001b[0m\u001b[1;33m)\u001b[0m\u001b[1;33m\u001b[0m\u001b[1;33m\u001b[0m\u001b[0m\n\u001b[0m",
      "\u001b[1;31mKeyError\u001b[0m: 'Q2_8'"
     ]
    }
   ],
   "source": [
    " display(qs2[\"Q2_8\"])"
   ]
  },
  {
   "cell_type": "markdown",
   "metadata": {},
   "source": [
    "Question 9: Suppose we have a vector $\\beta = (\\beta_1, \\beta_2, ..., \\beta_J)^T$ and a function $p = \\frac{e^{\\sum_{j=1}^J \\beta_j z_j}}{1 + e^{\\sum_{j=1}^J \\beta_j z_j}}$. \n",
    "\n",
    "For a particular value $1 \\leq k \\leq J$, what is the partial derivative $\\frac{\\partial p}{\\partial \\beta_k}$? Is it:\n",
    "\n",
    "1. $z_k p + z_k p^2$\n",
    "2. $(\\sum_{j=1}^J \\beta_j z_j)\\frac{e^{\\sum_{j=1}^J \\beta_j z_j}}{1 + e^{\\sum_{j=1}^J \\beta_j z_j}}$\n",
    "3. $z_k p (1-p)$\n",
    "4. $z_k \\frac{e^{\\sum_{j=1}^J \\beta_j z_j}}{1 + e^{\\sum_{j=1}^J \\beta_j z_j}}$"
   ]
  },
  {
   "cell_type": "code",
   "execution_count": null,
   "metadata": {},
   "outputs": [],
   "source": [
    " display(qs2[\"Q2_9\"])"
   ]
  }
 ],
 "metadata": {
  "celltoolbar": "Hide code",
  "kernelspec": {
   "display_name": "Python 3",
   "language": "python",
   "name": "python3"
  },
  "language_info": {
   "codemirror_mode": {
    "name": "ipython",
    "version": 3
   },
   "file_extension": ".py",
   "mimetype": "text/x-python",
   "name": "python",
   "nbconvert_exporter": "python",
   "pygments_lexer": "ipython3",
   "version": "3.7.7"
  }
 },
 "nbformat": 4,
 "nbformat_minor": 4
}
