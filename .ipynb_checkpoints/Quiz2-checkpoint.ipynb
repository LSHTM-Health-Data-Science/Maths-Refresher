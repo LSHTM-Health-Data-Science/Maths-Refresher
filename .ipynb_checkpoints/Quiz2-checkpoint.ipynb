{
 "cells": [
  {
   "cell_type": "markdown",
   "metadata": {
    "hideCode": false,
    "hideOutput": true,
    "hidePrompt": true
   },
   "source": [
    "## Quiz 2: Differentiation and integration\n",
    "\n",
    "\n",
    "<br>\n",
    "Before attempting the questions below you need to run the whole notebook (click \"Cell\" from the dropdown menus and then choose \"Run All\"). \n",
    "\n",
    "##  Preamble\n",
    "This first bit of code installs the required packages. "
   ]
  },
  {
   "cell_type": "code",
   "execution_count": 28,
   "metadata": {},
   "outputs": [
    {
     "name": "stderr",
     "output_type": "stream",
     "text": [
      "Enabling notebook extension jupyter-js-widgets/extension...\n",
      "      - Validating: ok\n"
     ]
    }
   ],
   "source": [
    "!pip install -U -q ipywidgets\n",
    "!jupyter nbextension enable --py widgetsnbextension"
   ]
  },
  {
   "cell_type": "markdown",
   "metadata": {},
   "source": [
    "Import required functions."
   ]
  },
  {
   "cell_type": "code",
   "execution_count": 29,
   "metadata": {},
   "outputs": [],
   "source": [
    "import ipywidgets as widgets\n",
    "import sys\n",
    "from IPython.display import display\n",
    "from IPython.display import clear_output"
   ]
  },
  {
   "cell_type": "markdown",
   "metadata": {},
   "source": [
    "Load up the solutions and multiple choice question function."
   ]
  },
  {
   "cell_type": "code",
   "execution_count": 30,
   "metadata": {},
   "outputs": [],
   "source": [
    "%%capture \n",
    "%run ./Solutions.ipynb "
   ]
  },
  {
   "cell_type": "markdown",
   "metadata": {
    "hideCode": true
   },
   "source": [
    "## Quiz\n",
    "\n",
    "This quiz tests materials in the notebook: \n",
    "[Maths refresher](http://localhost:8890/notebooks/Documents/Work/Teaching/MSc_HDS/Statistics/Test_notebooks/maths_refresher.ipynb). If you are struggling with the questions go back and re-read the relevant material.\n",
    "\n",
    "Each question is initially set to a default value. Choose the correct value and press submit."
   ]
  },
  {
   "cell_type": "markdown",
   "metadata": {},
   "source": [
    "###  Differentiation\n",
    "\n",
    "The first part contains questions on differentiation"
   ]
  },
  {
   "cell_type": "markdown",
   "metadata": {},
   "source": [
    "Question 1: Differentiate the function $f(x) = x^3$. \n",
    "\n",
    "1. $3 x^3$\n",
    "2. $x^3$\n",
    "3. $3 x^2$\n",
    "4. $\\frac{x^4}{4}$"
   ]
  },
  {
   "cell_type": "code",
   "execution_count": 31,
   "metadata": {
    "hideCode": false,
    "hidePrompt": false
   },
   "outputs": [
    {
     "data": {
      "application/vnd.jupyter.widget-view+json": {
       "model_id": "7b24acaf3c7f47bfa195d7a5c4d8c3d3",
       "version_major": 2,
       "version_minor": 0
      },
      "text/plain": [
       "VBox(children=(Output(), RadioButtons(options=((1, 0), (2, 1), (3, 2), (4, 3)), value=0), Button(description='…"
      ]
     },
     "metadata": {},
     "output_type": "display_data"
    }
   ],
   "source": [
    " display(qs2[\"Q2_1\"])"
   ]
  },
  {
   "cell_type": "markdown",
   "metadata": {},
   "source": [
    "Question 2: Differentiate the function $f(x) = x^{-7}$. \n",
    "\n",
    "1. $-7 x^{-8}$\n",
    "2. $\\frac{x^{-9}}{9} $\n",
    "3. $\\frac{-8}{x^8}$\n",
    "4. $\\frac{7 \\times 8 x}{x^8}$"
   ]
  },
  {
   "cell_type": "code",
   "execution_count": 32,
   "metadata": {},
   "outputs": [
    {
     "data": {
      "application/vnd.jupyter.widget-view+json": {
       "model_id": "9287be9c2fca4df7addea54d8717b3f7",
       "version_major": 2,
       "version_minor": 0
      },
      "text/plain": [
       "VBox(children=(Output(), RadioButtons(options=((1, 0), (2, 1), (3, 2), (4, 3)), value=0), Button(description='…"
      ]
     },
     "metadata": {},
     "output_type": "display_data"
    }
   ],
   "source": [
    " display(qs2[\"Q2_2\"])"
   ]
  },
  {
   "cell_type": "markdown",
   "metadata": {
    "hideCode": true
   },
   "source": [
    "Question 3: Differentiate the function $f(x) = \\sqrt{1+x^2}$. \n",
    "\n",
    "1. $\\frac{2x}{(1 + x^2)^{1/2}}$\n",
    "2. $\\frac{x (1 + x)^{-1/2}}{2}$\n",
    "3. $\\{x (1+x^2)\\}^{-1/2}$\n",
    "4. $\\frac{x}{\\sqrt{1 + x^2}}$"
   ]
  },
  {
   "cell_type": "code",
   "execution_count": 33,
   "metadata": {},
   "outputs": [
    {
     "data": {
      "application/vnd.jupyter.widget-view+json": {
       "model_id": "3914a4e64b664866928526844b207163",
       "version_major": 2,
       "version_minor": 0
      },
      "text/plain": [
       "VBox(children=(Output(), RadioButtons(options=((1, 0), (2, 1), (3, 2), (4, 3)), value=0), Button(description='…"
      ]
     },
     "metadata": {},
     "output_type": "display_data"
    }
   ],
   "source": [
    " display(qs2[\"Q2_3\"])"
   ]
  },
  {
   "cell_type": "markdown",
   "metadata": {},
   "source": [
    "Question 4: Differentiate the function $f(x) = \\frac{1}{log_e(x)}$. \n",
    "\n",
    "1. $\\frac{x}{log_e(x)}$\n",
    "2. $\\frac{-1}{x(log_e(x))^2}$\n",
    "3. $\\frac{-x}{(log_e(x))^2}$\n",
    "4. $\\frac{-1}{(x log_e(x))^2}$"
   ]
  },
  {
   "cell_type": "code",
   "execution_count": 34,
   "metadata": {},
   "outputs": [
    {
     "data": {
      "application/vnd.jupyter.widget-view+json": {
       "model_id": "2901847547874c32bcd39cc15aa5d3e2",
       "version_major": 2,
       "version_minor": 0
      },
      "text/plain": [
       "VBox(children=(Output(), RadioButtons(options=((1, 0), (2, 1), (3, 2), (4, 3)), value=0), Button(description='…"
      ]
     },
     "metadata": {},
     "output_type": "display_data"
    }
   ],
   "source": [
    " display(qs2[\"Q2_4\"])"
   ]
  },
  {
   "cell_type": "markdown",
   "metadata": {},
   "source": [
    "Question 5: Differentiate the function $f(x) = exp(4x)$. \n",
    "\n",
    "1. $4x \\, exp(4x)$\n",
    "2. $4 e^{4x}$\n",
    "3. $16 \\, exp(3x)$\n",
    "4. $4 e^{3x}$"
   ]
  },
  {
   "cell_type": "code",
   "execution_count": 35,
   "metadata": {
    "scrolled": false
   },
   "outputs": [
    {
     "data": {
      "application/vnd.jupyter.widget-view+json": {
       "model_id": "c2fcc11c1d2c4e098f178e36dd82e3f0",
       "version_major": 2,
       "version_minor": 0
      },
      "text/plain": [
       "VBox(children=(Output(), RadioButtons(options=((1, 0), (2, 1), (3, 2), (4, 3)), value=0), Button(description='…"
      ]
     },
     "metadata": {},
     "output_type": "display_data"
    }
   ],
   "source": [
    " display(qs2[\"Q2_5\"])"
   ]
  },
  {
   "cell_type": "markdown",
   "metadata": {},
   "source": [
    "Question 6: Differentiate the function $f(x) = \\frac{(1 + x)}{x^2}$. \n",
    "\n",
    "1. $-\\frac{2(1+x)}{x^3}$\n",
    "2. $\\frac{1}{x^2}$\n",
    "3. $-\\frac{(2+x)}{x^3}$\n",
    "4. $\\frac{(2+x)}{x^3}$"
   ]
  },
  {
   "cell_type": "code",
   "execution_count": 36,
   "metadata": {},
   "outputs": [
    {
     "data": {
      "application/vnd.jupyter.widget-view+json": {
       "model_id": "a51e7df77b8f488b9b4be7f707e27e4c",
       "version_major": 2,
       "version_minor": 0
      },
      "text/plain": [
       "VBox(children=(Output(), RadioButtons(options=((1, 0), (2, 1), (3, 2), (4, 3)), value=0), Button(description='…"
      ]
     },
     "metadata": {},
     "output_type": "display_data"
    }
   ],
   "source": [
    " display(qs2[\"Q2_6\"])"
   ]
  },
  {
   "cell_type": "markdown",
   "metadata": {},
   "source": [
    "Question 7: Differentiate the function $f(x) = e^{3x^2}$. \n",
    "\n",
    "1. $3x^2 exp(3 x^2)$\n",
    "2. $e^{6x}$\n",
    "3. $3x^2 \\times 6x \\times  e^{3 x^2}$\n",
    "4. $6x e^{3x^2}$"
   ]
  },
  {
   "cell_type": "code",
   "execution_count": 37,
   "metadata": {},
   "outputs": [
    {
     "data": {
      "application/vnd.jupyter.widget-view+json": {
       "model_id": "7cb8be376b0746b199deaa25ae93921f",
       "version_major": 2,
       "version_minor": 0
      },
      "text/plain": [
       "VBox(children=(Output(), RadioButtons(options=((1, 0), (2, 1), (3, 2), (4, 3)), value=0), Button(description='…"
      ]
     },
     "metadata": {},
     "output_type": "display_data"
    }
   ],
   "source": [
    " display(qs2[\"Q2_7\"])"
   ]
  },
  {
   "cell_type": "markdown",
   "metadata": {},
   "source": [
    "Question 8: Define $$L = -\\frac{(x - \\mu)^2}{s} - log⁡(s)$$ \n",
    "\n",
    "Find\n",
    "$\\frac{\\partial L}{\\partial s}$, \n",
    "$\\frac{\\partial L}{\\partial \\mu}$, \n",
    "$\\frac{\\partial^2 L}{\\partial s^2}$, \n",
    "$\\frac{\\partial^2 L}{\\partial \\mu^2}$, \n",
    "$\\frac{\\partial^2 L}{\\partial s \\partial \\mu}$, \n",
    "$\\frac{\\partial^2 L}{\\partial \\mu \\partial s}$.\n",
    "\n",
    "Which of the following are correct? \n",
    "\n",
    "1. $\\frac{\\partial^2 L}{\\partial s^2} = \\frac{2(x-\\mu)^2}{s^3}  + \\frac{1}{s^2}, \\ \\  \\qquad \\frac{\\partial^2 L}{\\partial \\mu^2} = \\frac{-2}{s^2}, \\qquad \\frac{\\partial^2 L}{\\partial s \\partial \\mu} = \\frac{-2(s-\\mu)}{s^2}$\n",
    "2. $\\frac{\\partial^2 L}{\\partial s^2} = \\frac{-2(x-\\mu)^2}{s^3}  - \\frac{1}{s^2}, \\qquad \\frac{\\partial^2 L}{\\partial \\mu^2} = \\frac{2}{s}, \\qquad \\frac{\\partial^2 L}{\\partial s \\partial \\mu} = \\frac{2(s-\\mu)}{s^2}$\n",
    "3. $\\frac{\\partial^2 L}{\\partial s^2} = \\frac{-2(x-\\mu)^2}{s^3} + \\frac{1}{s^2}, \\qquad \\frac{\\partial^2 L}{\\partial \\mu^2} = \\frac{-2}{s}, \\qquad \\frac{\\partial^2 L}{\\partial s \\partial \\mu} = \\frac{-2(s-\\mu)}{s^2}$\n",
    "4. $\\frac{\\partial^2 L}{\\partial s^2} = \\frac{-2(x-\\mu)^2}{s^3}  - \\frac{1}{s^2}, \\qquad \\frac{\\partial^2 L}{\\partial \\mu^2} = \\frac{-2}{s}, \\qquad \\frac{\\partial^2 L}{\\partial s \\partial \\mu} = \\frac{-2(s-\\mu)^2}{s^2}$\n"
   ]
  },
  {
   "cell_type": "code",
   "execution_count": 38,
   "metadata": {
    "scrolled": true
   },
   "outputs": [
    {
     "data": {
      "application/vnd.jupyter.widget-view+json": {
       "model_id": "a5f65f01838343dab91816ec6d9c67b8",
       "version_major": 2,
       "version_minor": 0
      },
      "text/plain": [
       "VBox(children=(Output(), RadioButtons(options=((1, 0), (2, 1), (3, 2), (4, 3)), value=0), Button(description='…"
      ]
     },
     "metadata": {},
     "output_type": "display_data"
    }
   ],
   "source": [
    " display(qs2[\"Q2_8\"])"
   ]
  },
  {
   "cell_type": "markdown",
   "metadata": {},
   "source": [
    "###  Integration\n",
    "\n",
    "The next part contains questions on integration."
   ]
  },
  {
   "cell_type": "markdown",
   "metadata": {},
   "source": [
    "Question 9: Perform the integration $$\\int 3 x^4 dx$$\n",
    "\n",
    "Choose the correct solution:\n",
    "\n",
    "1. $\\frac{3 x^4}{5} + c$ \n",
    "2. $\\frac{3 x^5}{5} + c$\n",
    "3. $x^3 + c$\n",
    "4. $\\frac{3 x^3}{4} + c$\n",
    "\n",
    "where $c$ is a constant."
   ]
  },
  {
   "cell_type": "code",
   "execution_count": 39,
   "metadata": {},
   "outputs": [
    {
     "data": {
      "application/vnd.jupyter.widget-view+json": {
       "model_id": "ccd5b6a9a91940c3bc3cb1855427ab1e",
       "version_major": 2,
       "version_minor": 0
      },
      "text/plain": [
       "VBox(children=(Output(), RadioButtons(options=((1, 0), (2, 1), (3, 2), (4, 3)), value=0), Button(description='…"
      ]
     },
     "metadata": {},
     "output_type": "display_data"
    }
   ],
   "source": [
    " display(qs2[\"Q2_9\"])"
   ]
  },
  {
   "cell_type": "markdown",
   "metadata": {},
   "source": [
    "Question 10: Perform the integration $$\\int \\frac{1}{x} dx$$\n",
    "\n",
    "Choose the correct solution:\n",
    "\n",
    "1. $-\\frac{1}{x^2} + c$ \n",
    "2. $x log_e(x) + c$\n",
    "3. $log_e\\left( \\frac{1}{x} \\right) + x$\n",
    "4. $log_e(x) + c$\n",
    "\n",
    "where $c$ is a constant."
   ]
  },
  {
   "cell_type": "code",
   "execution_count": 40,
   "metadata": {},
   "outputs": [
    {
     "data": {
      "application/vnd.jupyter.widget-view+json": {
       "model_id": "9ec4770035ee4c86a9b21d50c9e5b2e8",
       "version_major": 2,
       "version_minor": 0
      },
      "text/plain": [
       "VBox(children=(Output(), RadioButtons(options=((1, 0), (2, 1), (3, 2), (4, 3)), value=0), Button(description='…"
      ]
     },
     "metadata": {},
     "output_type": "display_data"
    }
   ],
   "source": [
    " display(qs2[\"Q2_10\"])"
   ]
  },
  {
   "cell_type": "markdown",
   "metadata": {},
   "source": [
    "Question 11: Perform the integration $$\\int \\frac{x}{x^2-4} dx$$\n",
    "    \n",
    "Choose the correct solution:\n",
    "\n",
    "1. $\\frac{1}{2} log(x^2+4) + c$ \n",
    "2. $log( \\sqrt{x^2+4}) + c$\n",
    "3. $\\frac{1}{2}  log((x-2)(x+2)) + c$\n",
    "4. All of the above\n",
    "\n",
    "where $c$ is a constant."
   ]
  },
  {
   "cell_type": "code",
   "execution_count": 41,
   "metadata": {
    "scrolled": true
   },
   "outputs": [
    {
     "data": {
      "application/vnd.jupyter.widget-view+json": {
       "model_id": "a64f1d93aab74c41adc4915edeae52ee",
       "version_major": 2,
       "version_minor": 0
      },
      "text/plain": [
       "VBox(children=(Output(), RadioButtons(options=((1, 0), (2, 1), (3, 2), (4, 3)), value=0), Button(description='…"
      ]
     },
     "metadata": {},
     "output_type": "display_data"
    }
   ],
   "source": [
    " display(qs2[\"Q2_11\"])"
   ]
  },
  {
   "cell_type": "markdown",
   "metadata": {},
   "source": [
    "Question 12: Find the area under the curve for the following function:\n",
    "\n",
    "$$y = x^2$$\n",
    "\n",
    "a) between $x = 0$ and $x = 3$, and b) between $x = -3$ and $x = -0$\n",
    "\n",
    "Choose the correct option:\n",
    "\n",
    "1. a) $9$ and b) $9$ \n",
    "2. a) $9$ and b) $0$  \n",
    "3. a) $9$ and b) $-9$ \n",
    "4. a) $3$ and b) $-3$ "
   ]
  },
  {
   "cell_type": "code",
   "execution_count": null,
   "metadata": {},
   "outputs": [],
   "source": [
    " display(qs2[\"Q2_12\"])"
   ]
  },
  {
   "cell_type": "markdown",
   "metadata": {},
   "source": [
    "Question 12: Find the area under the curve for the following function:\n",
    "\n",
    "$$y = x^3  – 3x$$\n",
    "\n",
    "a) between $x = 0$ and $x = 3$, and b) between $x = -2$ and $x = 2$\n",
    "\n",
    "Choose the correct option:\n",
    "\n",
    "1. a) $\\frac{3^3}{4}$ and b) $0$ \n",
    "2. a) $\\frac{9}{4}$ and b) $4$  \n",
    "3. a) $6.75$ and b) $-8$ \n",
    "4. a) $6.75$ and b) $0$ "
   ]
  },
  {
   "cell_type": "code",
   "execution_count": null,
   "metadata": {},
   "outputs": [],
   "source": [
    " display(qs2[\"Q2_13\"])"
   ]
  }
 ],
 "metadata": {
  "celltoolbar": "Hide code",
  "kernelspec": {
   "display_name": "Python 3",
   "language": "python",
   "name": "python3"
  },
  "language_info": {
   "codemirror_mode": {
    "name": "ipython",
    "version": 3
   },
   "file_extension": ".py",
   "mimetype": "text/x-python",
   "name": "python",
   "nbconvert_exporter": "python",
   "pygments_lexer": "ipython3",
   "version": "3.7.7"
  }
 },
 "nbformat": 4,
 "nbformat_minor": 4
}
