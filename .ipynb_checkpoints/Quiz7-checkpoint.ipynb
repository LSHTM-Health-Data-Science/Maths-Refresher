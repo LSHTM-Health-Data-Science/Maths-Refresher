{
 "cells": [
  {
   "cell_type": "markdown",
   "metadata": {
    "hideCode": false,
    "hideOutput": true,
    "hidePrompt": true
   },
   "source": [
    "# Quiz 7: Discrete Random Variables\n"
   ]
  },
  {
   "cell_type": "markdown",
   "metadata": {},
   "source": [
    "If you wish, you can do a self grading version of the quiz below. In order to open the interactive version of the notebook, you need to open it in Binder. To do this, hover your mouse over the rocket symbol (near the top right of the page) and click on the word \"Binder\" which should appear. This will load an interactive quiz. The first time you load this it may take a few minutes. "
   ]
  },
  {
   "cell_type": "markdown",
   "metadata": {
    "tags": [
     "remove_cell"
    ]
   },
   "source": [
    "##  Preamble\n",
    "\n",
    "If running in interactive mode, before attempting the questions below you need to run the whole notebook (click \"Cell\" from the dropdown menus and then choose \"Run All\"). \n",
    "\n",
    "The code below installs the required packages, loads up the solutions and the multiple choice question function used below."
   ]
  },
  {
   "cell_type": "code",
   "execution_count": 23,
   "metadata": {
    "tags": [
     "remove_cell"
    ]
   },
   "outputs": [],
   "source": [
    "%%capture \n",
    "%run ./Solutions.ipynb "
   ]
  },
  {
   "cell_type": "markdown",
   "metadata": {
    "hideCode": true
   },
   "source": [
    "## Quiz\n",
    "\n",
    "This quiz tests materials in the section called \"Discrete random variables\". If you are struggling with the questions go back and re-read the relevant material.\n"
   ]
  },
  {
   "cell_type": "markdown",
   "metadata": {
    "tags": [
     "remove_cell"
    ]
   },
   "source": [
    "Each question is initially set to a default value. Choose the correct value and press submit."
   ]
  },
  {
   "cell_type": "markdown",
   "metadata": {},
   "source": [
    "A variable $Z$ has the following distribution:\n",
    "\n",
    "| $z$  |  P(Z=$z$) |\n",
    "|---- | ---- |\n",
    "| 1 | 0.3 |\n",
    "| 2 | 0.2 |\n",
    "| 3 | 0.4 |\n",
    "| 4 | 0.1 |\n"
   ]
  },
  {
   "cell_type": "markdown",
   "metadata": {},
   "source": [
    "**Question 1**: Calculate $E(Z)$\n",
    "\n",
    "Choose the correct answer:\n",
    "\n",
    "1. $6.3$\n",
    "2. $1.01$\n",
    "3. $2.3$\n",
    "4. $1.5$"
   ]
  },
  {
   "cell_type": "code",
   "execution_count": null,
   "metadata": {
    "tags": [
     "remove_cell"
    ]
   },
   "outputs": [],
   "source": [
    " display(qs7[\"Q7_1\"])"
   ]
  },
  {
   "cell_type": "markdown",
   "metadata": {},
   "source": [
    "**Question 2**: Calculate $E(Z^2)$\n",
    "\n",
    "Choose the correct answer:\n",
    "\n",
    "1. $6.3$\n",
    "2. $1.01$\n",
    "3. $2.3$\n",
    "4. $1.5$"
   ]
  },
  {
   "cell_type": "code",
   "execution_count": null,
   "metadata": {
    "tags": [
     "remove_cell"
    ]
   },
   "outputs": [],
   "source": [
    " display(qs7[\"Q7_2\"])"
   ]
  },
  {
   "cell_type": "markdown",
   "metadata": {},
   "source": [
    "**Question 3**: Calculate $Var(Z)$\n",
    "\n",
    "Choose the correct answer:\n",
    "\n",
    "1. $6.3$\n",
    "2. $1.01$\n",
    "3. $2.3$\n",
    "4. $1.5$"
   ]
  },
  {
   "cell_type": "code",
   "execution_count": null,
   "metadata": {
    "tags": [
     "remove_cell"
    ]
   },
   "outputs": [],
   "source": [
    " display(qs7[\"Q7_3\"])"
   ]
  },
  {
   "cell_type": "markdown",
   "metadata": {},
   "source": [
    "Let $X$ be a discrete random variable with $E(X) = 1$ and $Var(X) = 5$.  "
   ]
  },
  {
   "cell_type": "markdown",
   "metadata": {
    "hidePrompt": false
   },
   "source": [
    "**Question 4**: What is $E(2 + 3X)$?\n",
    "\n",
    "Choose the correct answer:\n",
    "\n",
    "1. $6$\n",
    "2. $10$\n",
    "3. $45$\n",
    "4. $5$"
   ]
  },
  {
   "cell_type": "code",
   "execution_count": 24,
   "metadata": {
    "hideCode": false,
    "hidePrompt": false,
    "tags": [
     "remove_cell"
    ]
   },
   "outputs": [
    {
     "data": {
      "application/vnd.jupyter.widget-view+json": {
       "model_id": "3bad963ec2d149ae9cbe1a874da1c16d",
       "version_major": 2,
       "version_minor": 0
      },
      "text/plain": [
       "VBox(children=(Output(), RadioButtons(options=((1, 0), (2, 1), (3, 2), (4, 3)), value=0), Button(description='…"
      ]
     },
     "metadata": {},
     "output_type": "display_data"
    }
   ],
   "source": [
    " display(qs7[\"Q7_4\"])"
   ]
  },
  {
   "cell_type": "markdown",
   "metadata": {},
   "source": [
    "**Question 5**: What is $E((2 + X)2)$?\n",
    "\n",
    "Choose the correct answer:\n",
    "\n",
    "1. $6$\n",
    "2. $10$\n",
    "3. $45$\n",
    "4. $5$"
   ]
  },
  {
   "cell_type": "code",
   "execution_count": null,
   "metadata": {
    "tags": [
     "remove_cell"
    ]
   },
   "outputs": [],
   "source": [
    " display(qs7[\"Q7_5\"])"
   ]
  },
  {
   "cell_type": "markdown",
   "metadata": {},
   "source": [
    "**Question 6**: What is  $Var(10 + 3X)$?\n",
    "\n",
    "Choose the correct answer:\n",
    "\n",
    "1. $6$\n",
    "2. $10$\n",
    "3. $45$\n",
    "4. $5$"
   ]
  },
  {
   "cell_type": "code",
   "execution_count": 25,
   "metadata": {
    "tags": [
     "remove_cell"
    ]
   },
   "outputs": [
    {
     "data": {
      "application/vnd.jupyter.widget-view+json": {
       "model_id": "445b6a5e4bb647f998ed0ad01e40067f",
       "version_major": 2,
       "version_minor": 0
      },
      "text/plain": [
       "VBox(children=(Output(), RadioButtons(options=((1, 0), (2, 1), (3, 2), (4, 3)), value=0), Button(description='…"
      ]
     },
     "metadata": {},
     "output_type": "display_data"
    }
   ],
   "source": [
    " display(qs7[\"Q7_6\"])"
   ]
  },
  {
   "cell_type": "markdown",
   "metadata": {},
   "source": [
    "Let $Y$ be a discrete random variable with $E(Y) = 4$ and $Var(Y) = 2$. Remember, $E(X) = 1$ and $Var(X) = 5$ as above."
   ]
  },
  {
   "cell_type": "markdown",
   "metadata": {
    "hideCode": true
   },
   "source": [
    "**Question 7**: What is $E(21X - 4Y)$?\n",
    "\n",
    "Choose the correct solution:\n",
    "\n",
    "1. $6$\n",
    "2. $10$\n",
    "3. $45$\n",
    "4. $5$"
   ]
  },
  {
   "cell_type": "code",
   "execution_count": 26,
   "metadata": {
    "tags": [
     "remove_cell"
    ]
   },
   "outputs": [
    {
     "data": {
      "application/vnd.jupyter.widget-view+json": {
       "model_id": "4ed146f340164bc4a486c5071031a6a3",
       "version_major": 2,
       "version_minor": 0
      },
      "text/plain": [
       "VBox(children=(Output(), RadioButtons(options=((1, 0), (2, 1), (3, 2), (4, 3)), value=0), Button(description='…"
      ]
     },
     "metadata": {},
     "output_type": "display_data"
    }
   ],
   "source": [
    " display(qs7[\"Q7_7\"])"
   ]
  },
  {
   "cell_type": "markdown",
   "metadata": {},
   "source": [
    "Let $Z_1$ and $Z_2$ be discrete random variables. Suppose that $Z_1$ and $Z_2$ are independent. \n",
    "\n",
    "$E(Z_1) = 3$ and $Var(Z_1) = 1$\n",
    "\n",
    "$E(Z_2) = 5$ and $Var(Z_2) = 2$"
   ]
  },
  {
   "cell_type": "markdown",
   "metadata": {},
   "source": [
    "**Question 8**: What is $E(3 Z_1 - 2 Z_2 + 1)$? \n",
    "\n",
    "\n",
    "Choose the correct answer:\n",
    "\n",
    "1. $0$\n",
    "2. $25$\n",
    "3. $17$\n",
    "4. $2$"
   ]
  },
  {
   "cell_type": "code",
   "execution_count": 27,
   "metadata": {
    "tags": [
     "remove_cell"
    ]
   },
   "outputs": [
    {
     "data": {
      "application/vnd.jupyter.widget-view+json": {
       "model_id": "f40d51f3f1ab4808939a2865ff17ccff",
       "version_major": 2,
       "version_minor": 0
      },
      "text/plain": [
       "VBox(children=(Output(), RadioButtons(options=((1, 0), (2, 1), (3, 2), (4, 3)), value=0), Button(description='…"
      ]
     },
     "metadata": {},
     "output_type": "display_data"
    }
   ],
   "source": [
    " display(qs7[\"Q7_8\"])"
   ]
  },
  {
   "cell_type": "markdown",
   "metadata": {},
   "source": [
    "**Question 9**: What is $Var(3 Z_1 - 2 Z_2 + 1)$?\n",
    "\n",
    "\n",
    "Choose the correct answer:\n",
    "\n",
    "1. $0$\n",
    "2. $25$\n",
    "3. $17$\n",
    "4. $2$"
   ]
  },
  {
   "cell_type": "code",
   "execution_count": null,
   "metadata": {
    "tags": [
     "remove_cell"
    ]
   },
   "outputs": [],
   "source": [
    " display(qs7[\"Q7_9\"])"
   ]
  },
  {
   "cell_type": "markdown",
   "metadata": {},
   "source": [
    "In a particular study, the percentage of the whole sample in groups defined by sex and smoking are shown below:\n",
    "\n",
    "\n",
    "| Sex  |  Current smoker | Former smoker | Never smoker |\n",
    "|---- | ---- |---- |---- |\n",
    "| Male | 10\\% | 25\\% | 15\\% |\n",
    "| Female | 20\\% | 10\\% | 10\\% |\n"
   ]
  },
  {
   "cell_type": "markdown",
   "metadata": {},
   "source": [
    "**Question 10**: What is the probability that a randomly selected individual is a current smoker?\n",
    "\n",
    "Choose the correct answer:\n",
    "\n",
    "1. $0.3$\n",
    "2. $1/3$\n",
    "3. $0.5$\n",
    "4. $1/5$"
   ]
  },
  {
   "cell_type": "code",
   "execution_count": null,
   "metadata": {
    "tags": [
     "remove_cell"
    ]
   },
   "outputs": [],
   "source": [
    " display(qs7[\"Q7_10\"])"
   ]
  },
  {
   "cell_type": "markdown",
   "metadata": {},
   "source": [
    "**Question 11**: What is the probability that a randomly selected individual is male?\n",
    "\n",
    "Choose the correct answer:\n",
    "\n",
    "1. $0.3$\n",
    "2. $1/3$\n",
    "3. $0.5$\n",
    "4. $1/5$"
   ]
  },
  {
   "cell_type": "code",
   "execution_count": null,
   "metadata": {
    "tags": [
     "remove_cell"
    ]
   },
   "outputs": [],
   "source": [
    " display(qs7[\"Q7_11\"])"
   ]
  },
  {
   "cell_type": "markdown",
   "metadata": {},
   "source": [
    "**Question 12**: Suppose we randomly select from among the male participants of the study. What is the probability that the selected individual is a current smoker?\n",
    "\n",
    "Choose the correct answer:\n",
    "\n",
    "1. $0.3$\n",
    "2. $1/3$\n",
    "3. $0.5$\n",
    "4. $1/5$"
   ]
  },
  {
   "cell_type": "code",
   "execution_count": null,
   "metadata": {
    "tags": [
     "remove_cell"
    ]
   },
   "outputs": [],
   "source": [
    " display(qs7[\"Q7_12\"])"
   ]
  },
  {
   "cell_type": "markdown",
   "metadata": {},
   "source": [
    "**Question 13**: Suppose we randomly select from among the current smokers in the study. What is the probability that the selected individual is male?\n",
    "\n",
    "Choose the correct answer:\n",
    "\n",
    "1. $0.3$\n",
    "2. $1/3$\n",
    "3. $0.5$\n",
    "4. $1/5$"
   ]
  },
  {
   "cell_type": "code",
   "execution_count": null,
   "metadata": {
    "tags": [
     "remove_cell"
    ]
   },
   "outputs": [],
   "source": [
    " display(qs7[\"Q7_13\"])"
   ]
  },
  {
   "cell_type": "markdown",
   "metadata": {},
   "source": [
    "**Question 14**: Are sex and smoking status independent variables?\n",
    "\n",
    "Choose the correct answer:\n",
    "\n",
    "1. Yes\n",
    "2. No\n",
    "3. We do not have sufficient data to say\n",
    "4. No, because these events are not mutually exclusive"
   ]
  },
  {
   "cell_type": "code",
   "execution_count": null,
   "metadata": {
    "tags": [
     "remove_cell"
    ]
   },
   "outputs": [],
   "source": [
    " display(qs7[\"Q7_14\"])"
   ]
  }
 ],
 "metadata": {
  "celltoolbar": "Tags",
  "kernelspec": {
   "display_name": "Python 3",
   "language": "python",
   "name": "python3"
  },
  "language_info": {
   "codemirror_mode": {
    "name": "ipython",
    "version": 3
   },
   "file_extension": ".py",
   "mimetype": "text/x-python",
   "name": "python",
   "nbconvert_exporter": "python",
   "pygments_lexer": "ipython3",
   "version": "3.7.7"
  }
 },
 "nbformat": 4,
 "nbformat_minor": 4
}
