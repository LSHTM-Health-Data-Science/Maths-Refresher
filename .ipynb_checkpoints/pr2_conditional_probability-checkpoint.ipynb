{
 "cells": [
  {
   "cell_type": "markdown",
   "metadata": {},
   "source": [
    "# Conditional probability and independence"
   ]
  },
  {
   "cell_type": "markdown",
   "metadata": {},
   "source": [
    "## Defining conditional probability\n",
    "\n",
    "Suppose that we know that an individual is a smoker. Given that event, what is the probability that the individual suffers from asthma? This is known as a **conditional probability**.\n",
    "\n",
    "We can write this as $P(A|S)$. This is called the conditional probability of $A$ given $S$, i.e. the sample space is now reduced to $S$ as we know the individual is a smoker. Once $S$ has occurred, the event of interest will occur only if the observed outcome is in $A \\cap S$.\n",
    "\n",
    "In the original sample space $A \\cap S$ has probability $P(A \\cap S)$ with denominator $P(\\Omega)=1$, but the conditioning has reduced the sample space, so the new probability is relative to this, i.e. $P(A \\cap S)$ as a portion of $P(S)$. \n",
    "\n",
    "[Add Venn diagram showing the reduced sample space?]\n",
    "\n",
    "This leads to the definition of conditional probability\n",
    "\n",
    "$$\n",
    "P(A|S) = \\frac{P(A \\cap S)}{P(S)}.\n",
    "$$\n",
    "\n",
    "Multiplying through by $P(S)$, we see this implies that\n",
    "\n",
    "$$\n",
    "P(A \\cap S) = P(A|S) P(S).\n",
    "$$\n",
    "\n",
    "This relationship is symmetric, so also:\n",
    "\n",
    "$$\n",
    "P(A \\cap S) = P(S|A) P(A).\n",
    "$$"
   ]
  },
  {
   "cell_type": "markdown",
   "metadata": {},
   "source": [
    "## Probability trees\n",
    "\n"
   ]
  },
  {
   "cell_type": "markdown",
   "metadata": {},
   "source": [
    "A good way of displaying and calculating simple conditional probabilities is through the use of a **probability tree**. The different outcomes are represented by the different branches of the tree.  The events in a probability tree are exhaustive (every possible event is accounted for) and mutually exclusive, so you must go along one branch and only one branch at each stage.\n",
    "\n",
    "The simplest form of a probability tree is shown in the figure below.  The second branches are all conditional probabilities, conditional on the events in each of the previous branches.  \n",
    "\n",
    "[Add a probability tree]\n",
    "\n",
    "To calculate the probability of taking a particular path through the tree, we multiply the probabilities of the corresponding branches. That this is correct is a consequence of our earlier result that\n",
    "\n",
    "$$\n",
    "P(A \\cap S) = P(A|S) P(S).\n",
    "$$"
   ]
  },
  {
   "cell_type": "markdown",
   "metadata": {},
   "source": [
    "### Example \n",
    "\n",
    "Suppose we know that in the population of interest the prevalence of smoking is 20\\% among adults in general and that 9\\% of smokers suffer asthma whereas 7\\% of non-smokers have asthma.  This information can be represented in a probability tree.  Note that we are given $P(A)$, $P(A|S)$ and $P(A|\\bar{S})$, so the first branch of the tree is for smoking status and the second branch is asthma status conditional on smoking status.\n",
    "\n",
    "[Add a probability tree]\n",
    "\n",
    "\n",
    "The probability of any intersection of asthma and smoking events can then be obtained by multiplying the probabilities along the branches of the tree leading to the tip which corresponds to the desired event. For example\n",
    "\n",
    "$$\n",
    "P(A \\cap S) = P(S) \\times P(A|S) = 0.2 \\times 0.09 = 0.018.\n",
    "$$\n",
    "\n",
    "i.e. less than 2\\% of the population are both asthma sufferers and smokers.\n",
    "\n",
    "Each tip of the tree represents an outcome of the \"experiment\", and together the corresponding probabilities sum to 1."
   ]
  },
  {
   "cell_type": "markdown",
   "metadata": {},
   "source": [
    "## Independence\n",
    "\n",
    "A concept of fundamental importance in probability theory and medical statistics in particular is that of independence between events. Suppose that the occurrence of an event $A_{1}$ provides no information at all about the probability of a second event $A_{2}$ occurring (e.g. suppose that knowing someone was a smoker gave no information about whether or not they had asthma). \n",
    "\n",
    "In that case, $P(A_{2}|A_{1})=P(A_{2})$. i.e. knowing that $A_{1}$ has occurred does not affect the probability that $A_{2}$ will occur. Then\n",
    "\n",
    "$$\n",
    "P(A_{1} \\cap A_{2}) = P(A_{2}|A_{1}) P(A_{1}) = P(A_{2})P(A_{1}).\n",
    "$$\n",
    "\n",
    "The latter is usually how independence between two events $A_{1}$ and $A_{2}$ is formally defined, i.e. $A_{1}$ and $A_{2}$ are said to be **independent** if\n",
    "\n",
    "$$\n",
    "P(A_{1} \\cap A_{2}) = P(A_{1}) \\times P(A_{2}).\n",
    "$$\n",
    "\n",
    "This is known as the **multiplicative rule** of probability.\n"
   ]
  }
 ],
 "metadata": {
  "kernelspec": {
   "display_name": "R",
   "language": "R",
   "name": "ir"
  },
  "language_info": {
   "codemirror_mode": "r",
   "file_extension": ".r",
   "mimetype": "text/x-r-source",
   "name": "R",
   "pygments_lexer": "r",
   "version": "3.6.1"
  }
 },
 "nbformat": 4,
 "nbformat_minor": 4
}
