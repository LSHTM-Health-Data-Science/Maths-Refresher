{
 "cells": [
  {
   "cell_type": "markdown",
   "metadata": {
    "hideCode": false,
    "hideOutput": true,
    "hidePrompt": true
   },
   "source": [
    "# Quiz 3: Matrices\n"
   ]
  },
  {
   "cell_type": "markdown",
   "metadata": {},
   "source": [
    "If you wish, you can do a self grading version of the quiz below. In order to open the interactive version of the notebook, you need to open it in Binder. To do this, hover your mouse over the rocket symbol (near the top right of the page) and click on the word \"Binder\" which should appear. This will load an interactive quiz. The first time you load this it may take a few minutes. "
   ]
  },
  {
   "cell_type": "markdown",
   "metadata": {
    "tags": [
     "remove_cell"
    ]
   },
   "source": [
    "##  Preamble\n",
    "\n",
    "If running in interactive mode, before attempting the questions below you need to run the whole notebook (click \"Cell\" from the dropdown menus and then choose \"Run All\"). \n",
    "\n",
    "The code below installs the required packages, loads up the solutions and the multiple choice question function used below."
   ]
  },
  {
   "cell_type": "code",
   "execution_count": 23,
   "metadata": {
    "tags": [
     "remove_cell"
    ]
   },
   "outputs": [],
   "source": [
    "%%capture \n",
    "%run ./Solutions.ipynb "
   ]
  },
  {
   "cell_type": "markdown",
   "metadata": {
    "hideCode": true
   },
   "source": [
    "## Quiz\n",
    "\n",
    "This quiz tests materials in the section called \"Matrices\". If you are struggling with the questions go back and re-read the relevant material.\n"
   ]
  },
  {
   "cell_type": "markdown",
   "metadata": {
    "tags": [
     "remove_cell"
    ]
   },
   "source": [
    "Each question is initially set to a default value. Choose the correct value and press submit."
   ]
  },
  {
   "cell_type": "markdown",
   "metadata": {},
   "source": [
    "Define $A= \\begin{pmatrix}1&4 \\\\ 5&1 \\\\ 2&3\\end{pmatrix}$"
   ]
  },
  {
   "cell_type": "markdown",
   "metadata": {
    "hidePrompt": false
   },
   "source": [
    "**Question 1**: What is the order of $A$? \n",
    "\n",
    "Choose the correct answer:\n",
    "\n",
    "1. $3$\n",
    "2. $3 \\times 2$\n",
    "3. $2 \\times 3$\n",
    "4. $6$"
   ]
  },
  {
   "cell_type": "code",
   "execution_count": 24,
   "metadata": {
    "hideCode": false,
    "hidePrompt": false,
    "tags": [
     "remove_cell"
    ]
   },
   "outputs": [
    {
     "data": {
      "application/vnd.jupyter.widget-view+json": {
       "model_id": "3bad963ec2d149ae9cbe1a874da1c16d",
       "version_major": 2,
       "version_minor": 0
      },
      "text/plain": [
       "VBox(children=(Output(), RadioButtons(options=((1, 0), (2, 1), (3, 2), (4, 3)), value=0), Button(description='…"
      ]
     },
     "metadata": {},
     "output_type": "display_data"
    }
   ],
   "source": [
    " display(qs3[\"Q3_1\"])"
   ]
  },
  {
   "cell_type": "markdown",
   "metadata": {},
   "source": [
    "**Question 2**: What is the transpose of A?\n",
    "\n",
    "Choose the correct answer:\n",
    "\n",
    "1. $\\begin{pmatrix} 1 &4 &5 \\\\2 &1 &3 \\end{pmatrix}$\n",
    "2. The transpose is undefined.\n",
    "3. $\\begin{pmatrix} 1 &5 &2 \\end{pmatrix}$ and $\\begin{pmatrix} 4 &1 &3 \\end{pmatrix}$ \n",
    "4. $\\begin{pmatrix} 1 &5 &2 \\\\ 4 &1 &3 \\end{pmatrix}$ "
   ]
  },
  {
   "cell_type": "code",
   "execution_count": 25,
   "metadata": {
    "tags": [
     "remove_cell"
    ]
   },
   "outputs": [
    {
     "data": {
      "application/vnd.jupyter.widget-view+json": {
       "model_id": "445b6a5e4bb647f998ed0ad01e40067f",
       "version_major": 2,
       "version_minor": 0
      },
      "text/plain": [
       "VBox(children=(Output(), RadioButtons(options=((1, 0), (2, 1), (3, 2), (4, 3)), value=0), Button(description='…"
      ]
     },
     "metadata": {},
     "output_type": "display_data"
    }
   ],
   "source": [
    " display(qs3[\"Q3_2\"])"
   ]
  },
  {
   "cell_type": "markdown",
   "metadata": {
    "hideCode": true
   },
   "source": [
    "**Question 3**: Re-write A as a partitioned matrix formed of two column vectors.\n",
    "\n",
    "Choose the correct solution:\n",
    "\n",
    "1. $A = \\begin{pmatrix} a_1 &a_2 \\end{pmatrix}$ where $a_1  = \\begin{pmatrix} 1 &5 &2 \\end{pmatrix}'$ and $a_2  = \\begin{pmatrix} 4 &1 &3 \\end{pmatrix}'$\n",
    "2. $A = \\begin{pmatrix} a_1 \\\\ a_2 \\end{pmatrix}$ where $a_1  = \\begin{pmatrix} 1 &5 &2 \\end{pmatrix}$ and $a_2  = \\begin{pmatrix} 4 &1 &3 \\end{pmatrix}$\n",
    "3. Partitioning is only defined for square matrices.\n",
    "4. Partitioning requires the matrix to be split into four sub-matrices."
   ]
  },
  {
   "cell_type": "code",
   "execution_count": 26,
   "metadata": {
    "tags": [
     "remove_cell"
    ]
   },
   "outputs": [
    {
     "data": {
      "application/vnd.jupyter.widget-view+json": {
       "model_id": "4ed146f340164bc4a486c5071031a6a3",
       "version_major": 2,
       "version_minor": 0
      },
      "text/plain": [
       "VBox(children=(Output(), RadioButtons(options=((1, 0), (2, 1), (3, 2), (4, 3)), value=0), Button(description='…"
      ]
     },
     "metadata": {},
     "output_type": "display_data"
    }
   ],
   "source": [
    " display(qs3[\"Q3_3\"])"
   ]
  },
  {
   "cell_type": "markdown",
   "metadata": {},
   "source": [
    "Define $B= \\begin{pmatrix} 4&2 &1 \\\\ 3&6 &3 \\\\ 2&5 &5\\end{pmatrix}$ "
   ]
  },
  {
   "cell_type": "markdown",
   "metadata": {},
   "source": [
    "**Question 4**: What is the main diagonal of B as a column vector?\n",
    "\n",
    "Choose the correct answer:\n",
    "\n",
    "1. $\\begin{pmatrix} 4 &3 &2 \\end{pmatrix}$\n",
    "2. $\\begin{pmatrix} 4 &6 &5 \\end{pmatrix}$\n",
    "3. $\\begin{pmatrix} 4 &2 &1 \\end{pmatrix}'$\n",
    "4. $\\begin{pmatrix} 4 &6 &5 \\end{pmatrix}'$"
   ]
  },
  {
   "cell_type": "code",
   "execution_count": 27,
   "metadata": {
    "tags": [
     "remove_cell"
    ]
   },
   "outputs": [
    {
     "data": {
      "application/vnd.jupyter.widget-view+json": {
       "model_id": "f40d51f3f1ab4808939a2865ff17ccff",
       "version_major": 2,
       "version_minor": 0
      },
      "text/plain": [
       "VBox(children=(Output(), RadioButtons(options=((1, 0), (2, 1), (3, 2), (4, 3)), value=0), Button(description='…"
      ]
     },
     "metadata": {},
     "output_type": "display_data"
    }
   ],
   "source": [
    " display(qs3[\"Q3_4\"])"
   ]
  },
  {
   "cell_type": "markdown",
   "metadata": {},
   "source": [
    "**Question 5**: Calculate the trace of B.\n",
    "\n",
    "\n",
    "Choose the correct answer:\n",
    "\n",
    "1. $tr(B) = 16$\n",
    "2. $tr(B) = \\begin{pmatrix} 4 &6 &5 \\end{pmatrix}$\n",
    "3. $tr(B) = 15$\n",
    "4. $tr(B) = \\begin{pmatrix} 4 &6 &5 \\end{pmatrix}'$"
   ]
  },
  {
   "cell_type": "code",
   "execution_count": 28,
   "metadata": {
    "scrolled": false,
    "tags": [
     "remove_cell"
    ]
   },
   "outputs": [
    {
     "data": {
      "application/vnd.jupyter.widget-view+json": {
       "model_id": "0195bc3dd7bc45fb8e6d428c62eb7fd0",
       "version_major": 2,
       "version_minor": 0
      },
      "text/plain": [
       "VBox(children=(Output(), RadioButtons(options=((1, 0), (2, 1), (3, 2), (4, 3)), value=0), Button(description='…"
      ]
     },
     "metadata": {},
     "output_type": "display_data"
    }
   ],
   "source": [
    " display(qs3[\"Q3_5\"])"
   ]
  },
  {
   "cell_type": "markdown",
   "metadata": {},
   "source": [
    "Define $C= \\begin{pmatrix} 2 &4 \\\\ 3 &1 \\\\ 6 &0\\end{pmatrix}$ "
   ]
  },
  {
   "cell_type": "markdown",
   "metadata": {},
   "source": [
    "**Question 6**: Calculate \n",
    "\n",
    "(i) $A+C$  (ii) $A-C$ (iii) $(A+C)^T$ (iv) $A^T + C^T$\n",
    "\n",
    "Choose the correct answer:\n",
    "\n",
    "1. $A+C=\\begin{pmatrix} 3&8\\\\8&2\\\\8&3\\end{pmatrix}, \\ \\ A-C =\\begin{pmatrix} -1&0\\\\2&0\\\\-4&3\\end{pmatrix}, \\ \\ (A+C)^T=\\begin{pmatrix} 3&8&8\\\\8&2&3\\end{pmatrix}, \\ \\ A^T + C^T=\\begin{pmatrix} 3&8\\\\8&2\\\\8&3\\end{pmatrix}$ \n",
    "2. $A+C=\\begin{pmatrix} 3&8\\\\8&2\\\\8&3\\end{pmatrix}, \\ \\ A-C =\\begin{pmatrix} -1&0\\\\2&0\\\\4&3\\end{pmatrix}, \\ \\ (A+C)^T=\\begin{pmatrix} 3&8&8\\\\8&2&3\\end{pmatrix}, \\ \\ A^T + C^T=\\begin{pmatrix} 3&8&8\\\\8&2&3\\end{pmatrix}$ \n",
    "3. $A+C=\\begin{pmatrix} 3&8\\\\8&2\\\\8&3\\end{pmatrix}, \\ \\ A-C =\\begin{pmatrix} -1&0\\\\2&0\\\\-4&3\\end{pmatrix}, \\ \\ (A+C)^T=\\begin{pmatrix} 3&8&8\\\\8&2&3\\end{pmatrix}, \\ \\ A^T + C^T=\\begin{pmatrix} 3&8&8\\\\8&2&3\\end{pmatrix}$ \n",
    "4. $A+C=\\begin{pmatrix} 3&8\\\\8&2\\\\8&2\\end{pmatrix}, \\ \\ A-C =\\begin{pmatrix} -1&0\\\\2&0\\\\-4&3\\end{pmatrix}, \\ \\ (A+C)^T=\\begin{pmatrix} 3&8&8\\\\8&2&2\\end{pmatrix}, \\ \\ A^T + C^T=\\begin{pmatrix} 3&8\\\\8&2\\\\8&2\\end{pmatrix}$"
   ]
  },
  {
   "cell_type": "code",
   "execution_count": 29,
   "metadata": {
    "tags": [
     "remove_cell"
    ]
   },
   "outputs": [
    {
     "data": {
      "application/vnd.jupyter.widget-view+json": {
       "model_id": "d766c9852b9745cdb8ca136c6e213575",
       "version_major": 2,
       "version_minor": 0
      },
      "text/plain": [
       "VBox(children=(Output(), RadioButtons(options=((1, 0), (2, 1), (3, 2), (4, 3)), value=0), Button(description='…"
      ]
     },
     "metadata": {},
     "output_type": "display_data"
    }
   ],
   "source": [
    " display(qs3[\"Q3_6\"])"
   ]
  },
  {
   "cell_type": "markdown",
   "metadata": {},
   "source": [
    "**Question 7**: What is (a) $2A$, and (b) $-1((A-C)3)$?\n",
    "\n",
    "Choose the correct answer:\n",
    "\n",
    "1. $2A = \\begin{pmatrix} 2 &8 \\\\ 10&2 \\\\ 4&6\\end{pmatrix}$ and $-1((A-C)3) = \\begin{pmatrix} 3&0\\\\-6&0\\\\12&-9\\end{pmatrix}$\n",
    "2. $2A = \\begin{pmatrix} 1&16\\\\25&1\\\\4&9\\end{pmatrix}$ and $-1((A-C)3) = \\begin{pmatrix} 3&0\\\\-6&0\\\\12&-6\\end{pmatrix}$\n",
    "3. $2A = \\begin{pmatrix} 2 &8 \\\\ 10&2 \\\\ 4&6\\end{pmatrix}$ and $-1((A-C)3) = \\begin{pmatrix}3&0\\\\6&0\\\\12&-9\\end{pmatrix}$\n",
    "4. $2A = \\begin{pmatrix} 1&16\\\\25&1\\\\4&9\\end{pmatrix}$ and $-1((A-C)3) = \\begin{pmatrix} 3&0\\\\-6&1\\\\12&-9\\end{pmatrix}$"
   ]
  },
  {
   "cell_type": "code",
   "execution_count": 30,
   "metadata": {
    "tags": [
     "remove_cell"
    ]
   },
   "outputs": [
    {
     "data": {
      "application/vnd.jupyter.widget-view+json": {
       "model_id": "b316701c325347fba8682a2508444f4f",
       "version_major": 2,
       "version_minor": 0
      },
      "text/plain": [
       "VBox(children=(Output(), RadioButtons(options=((1, 0), (2, 1), (3, 2), (4, 3)), value=0), Button(description='…"
      ]
     },
     "metadata": {},
     "output_type": "display_data"
    }
   ],
   "source": [
    " display(qs3[\"Q3_7\"])"
   ]
  },
  {
   "cell_type": "markdown",
   "metadata": {},
   "source": [
    "Define $D= \\begin{pmatrix} 3 \\\\ -1 \\end{pmatrix}$. And we have defined $A= \\begin{pmatrix} 1&4\\\\5&1\\\\2&3 \\end{pmatrix}$ above."
   ]
  },
  {
   "cell_type": "markdown",
   "metadata": {},
   "source": [
    "**Question 8**: What is the order of the matrix $AD$? \n",
    "\n",
    "Choose the correct answer:\n",
    "\n",
    "1. $3$\n",
    "2. $1 \\times 3$\n",
    "3. $2 \\times 3$\n",
    "4. $3 \\times 1$"
   ]
  },
  {
   "cell_type": "code",
   "execution_count": 31,
   "metadata": {
    "scrolled": true,
    "tags": [
     "remove_cell"
    ]
   },
   "outputs": [
    {
     "data": {
      "application/vnd.jupyter.widget-view+json": {
       "model_id": "ac9c6650e0714fd8a1540d746f7df634",
       "version_major": 2,
       "version_minor": 0
      },
      "text/plain": [
       "VBox(children=(Output(), RadioButtons(options=((1, 0), (2, 1), (3, 2), (4, 3)), value=0), Button(description='…"
      ]
     },
     "metadata": {},
     "output_type": "display_data"
    }
   ],
   "source": [
    " display(qs3[\"Q3_8\"])"
   ]
  },
  {
   "cell_type": "markdown",
   "metadata": {},
   "source": [
    "**Question 9**: Calculate $AD$.\n",
    "\n",
    "Choose the correct answer:\n",
    "\n",
    "1. $AD = \\begin{pmatrix} -1 \\\\ 14 \\\\ 3 \\end{pmatrix}^T$ \n",
    "2. $AD = \\begin{pmatrix} -1 \\\\ 14 \\\\ 3 \\end{pmatrix}$\n",
    "3. $AD = \\begin{pmatrix} -1 \\\\ 14 \\\\ -3 \\end{pmatrix}$\n",
    "4. None of the above"
   ]
  },
  {
   "cell_type": "code",
   "execution_count": 32,
   "metadata": {
    "tags": [
     "remove_cell"
    ]
   },
   "outputs": [
    {
     "data": {
      "application/vnd.jupyter.widget-view+json": {
       "model_id": "be830a89623840abbd010418a908dca9",
       "version_major": 2,
       "version_minor": 0
      },
      "text/plain": [
       "VBox(children=(Output(), RadioButtons(options=((1, 0), (2, 1), (3, 2), (4, 3)), value=0), Button(description='…"
      ]
     },
     "metadata": {},
     "output_type": "display_data"
    }
   ],
   "source": [
    " display(qs3[\"Q3_9\"])"
   ]
  },
  {
   "cell_type": "markdown",
   "metadata": {},
   "source": [
    "Remember that $A= \\begin{pmatrix}1&4\\\\5&1\\\\2&3\\end{pmatrix}$  and $B= \\begin{pmatrix} 4&2 &1\\\\3&6 &3\\\\2&5 &5\\end{pmatrix}$ "
   ]
  },
  {
   "cell_type": "markdown",
   "metadata": {},
   "source": [
    "**Question 10**: What is the order of the matrix $BA$?\n",
    "\n",
    "Choose the correct solution:\n",
    "\n",
    "1. $3 \\times 2$ \n",
    "2. $3 \\times 3$\n",
    "3. $2 \\times 6$\n",
    "4. $2 \\times 3$"
   ]
  },
  {
   "cell_type": "code",
   "execution_count": 33,
   "metadata": {
    "tags": [
     "remove_cell"
    ]
   },
   "outputs": [
    {
     "data": {
      "application/vnd.jupyter.widget-view+json": {
       "model_id": "7a5055d097d04aea8b357609fb0cb2bd",
       "version_major": 2,
       "version_minor": 0
      },
      "text/plain": [
       "VBox(children=(Output(), RadioButtons(options=((1, 0), (2, 1), (3, 2), (4, 3)), value=0), Button(description='…"
      ]
     },
     "metadata": {},
     "output_type": "display_data"
    }
   ],
   "source": [
    " display(qs3[\"Q3_10\"])"
   ]
  },
  {
   "cell_type": "markdown",
   "metadata": {},
   "source": [
    "**Question 11**: Calculate $BA$ and $AB$.\n",
    "\n",
    "    \n",
    "Choose the correct solution:\n",
    "\n",
    "1. $AB = \\begin{pmatrix}16 &21 \\\\ 39&27 \\\\ 37 &28\\end{pmatrix}$ and $BA = \\begin{pmatrix}16 &21 \\\\ 39&27 \\\\ 37 &28\\end{pmatrix}$\n",
    "2. $AB$ is undefined. $BA = \\begin{pmatrix}16 &21 \\\\ 39&27 \\\\ 37 &28\\end{pmatrix}$\n",
    "3. $BA$ is undefined. $AB = \\begin{pmatrix}16 &21 \\\\ 39&27 \\\\ 37 &28\\end{pmatrix}$\n",
    "4. $BA$ and $AB$ are both undefined. "
   ]
  },
  {
   "cell_type": "code",
   "execution_count": 34,
   "metadata": {
    "scrolled": true,
    "tags": [
     "remove_cell"
    ]
   },
   "outputs": [
    {
     "data": {
      "application/vnd.jupyter.widget-view+json": {
       "model_id": "e698f21ceb7446adb2de0ac5319a61cc",
       "version_major": 2,
       "version_minor": 0
      },
      "text/plain": [
       "VBox(children=(Output(), RadioButtons(options=((1, 0), (2, 1), (3, 2), (4, 3)), value=0), Button(description='…"
      ]
     },
     "metadata": {},
     "output_type": "display_data"
    }
   ],
   "source": [
    " display(qs3[\"Q3_11\"])"
   ]
  },
  {
   "cell_type": "markdown",
   "metadata": {},
   "source": [
    "Define $E= \\begin{pmatrix} 2 &1 \\\\ -3 &0 \\end{pmatrix}$"
   ]
  },
  {
   "cell_type": "markdown",
   "metadata": {},
   "source": [
    "**Question 12**: Calculate the determinant of $E$.\n",
    "\n",
    "Choose the correct solution:\n",
    "\n",
    "1. -3\n",
    "2. It is undefined - $E$ is a singular matrix.   \n",
    "3. 3\n",
    "4. 9 "
   ]
  },
  {
   "cell_type": "code",
   "execution_count": 35,
   "metadata": {
    "tags": [
     "remove_cell"
    ]
   },
   "outputs": [
    {
     "data": {
      "application/vnd.jupyter.widget-view+json": {
       "model_id": "3ec4446562fa472587d9c0501ff169eb",
       "version_major": 2,
       "version_minor": 0
      },
      "text/plain": [
       "VBox(children=(Output(), RadioButtons(options=((1, 0), (2, 1), (3, 2), (4, 3)), value=0), Button(description='…"
      ]
     },
     "metadata": {},
     "output_type": "display_data"
    }
   ],
   "source": [
    " display(qs3[\"Q3_12\"])"
   ]
  },
  {
   "cell_type": "markdown",
   "metadata": {},
   "source": [
    "**Question 13**: Calculate the inverse of $E$.\n",
    "\n",
    "Check your calculation by calculating $E E^{-1}$. \n",
    "\n",
    "Choose the correct solution:\n",
    "\n",
    "1. $E^{-1} = \\begin{pmatrix} 0 &-1/3 \\\\ 1&2/3\\end{pmatrix}$ \n",
    "2. $E^{-1} = \\begin{pmatrix} 0 &1 \\\\ -1/3&2/3\\end{pmatrix}$ \n",
    "3. $E^{-1} = \\begin{pmatrix} 0 &1/3 \\\\ -1&2/3\\end{pmatrix}$ \n",
    "4. $E^{-1} = \\begin{pmatrix}  0 &-1 \\\\ 1/3&2/3\\end{pmatrix}$  "
   ]
  },
  {
   "cell_type": "code",
   "execution_count": 36,
   "metadata": {
    "tags": [
     "remove_cell"
    ]
   },
   "outputs": [
    {
     "data": {
      "application/vnd.jupyter.widget-view+json": {
       "model_id": "350e7ea94be24c3f955962c331ed2c77",
       "version_major": 2,
       "version_minor": 0
      },
      "text/plain": [
       "VBox(children=(Output(), RadioButtons(options=((1, 0), (2, 1), (3, 2), (4, 3)), value=0), Button(description='…"
      ]
     },
     "metadata": {},
     "output_type": "display_data"
    }
   ],
   "source": [
    " display(qs3[\"Q3_13\"])"
   ]
  },
  {
   "cell_type": "markdown",
   "metadata": {},
   "source": [
    "**Question 14**: Is $E$ (a) idempotent? and (b) orthogonal?\n",
    "\n",
    "Choose the correct solution:\n",
    "\n",
    "1. $E$ is idempotent but not orthogonal.\n",
    "2. $E$ is both idempotent and orthogonal.\n",
    "3. $E$ is not idempotent but it is orthogonal.\n",
    "4. $E$ is neither idempotent nor orthogonal."
   ]
  },
  {
   "cell_type": "code",
   "execution_count": 37,
   "metadata": {
    "tags": [
     "remove_cell"
    ]
   },
   "outputs": [
    {
     "data": {
      "application/vnd.jupyter.widget-view+json": {
       "model_id": "bbd686f38a0749a19ce0e98046656404",
       "version_major": 2,
       "version_minor": 0
      },
      "text/plain": [
       "VBox(children=(Output(), RadioButtons(options=((1, 0), (2, 1), (3, 2), (4, 3)), value=0), Button(description='…"
      ]
     },
     "metadata": {},
     "output_type": "display_data"
    }
   ],
   "source": [
    " display(qs3[\"Q3_14\"])"
   ]
  }
 ],
 "metadata": {
  "celltoolbar": "Tags",
  "kernelspec": {
   "display_name": "Python 3",
   "language": "python",
   "name": "python3"
  },
  "language_info": {
   "codemirror_mode": {
    "name": "ipython",
    "version": 3
   },
   "file_extension": ".py",
   "mimetype": "text/x-python",
   "name": "python",
   "nbconvert_exporter": "python",
   "pygments_lexer": "ipython3",
   "version": "3.7.7"
  }
 },
 "nbformat": 4,
 "nbformat_minor": 4
}
