{
 "cells": [
  {
   "cell_type": "markdown",
   "metadata": {
    "hideCode": false,
    "hideOutput": true,
    "hidePrompt": true
   },
   "source": [
    "# Quiz 1: Powers and logs\n",
    "\n",
    "\n",
    "<br>\n",
    "Before attempting the questions below you need to run the whole notebook (click \"Cell\" from the dropdown menus and then choose \"Run All\"). \n",
    "\n",
    "##  Preamble\n",
    "This first bit of code installs the required packages. "
   ]
  },
  {
   "cell_type": "code",
   "execution_count": 1,
   "metadata": {},
   "outputs": [
    {
     "name": "stderr",
     "output_type": "stream",
     "text": [
      "Enabling notebook extension jupyter-js-widgets/extension...\n",
      "      - Validating: ok\n"
     ]
    }
   ],
   "source": [
    "!pip install -U -q ipywidgets\n",
    "!jupyter nbextension enable --py widgetsnbextension"
   ]
  },
  {
   "cell_type": "markdown",
   "metadata": {},
   "source": [
    "Import required functions."
   ]
  },
  {
   "cell_type": "code",
   "execution_count": 2,
   "metadata": {},
   "outputs": [],
   "source": [
    "import ipywidgets as widgets\n",
    "import sys\n",
    "from IPython.display import display\n",
    "from IPython.display import clear_output"
   ]
  },
  {
   "cell_type": "markdown",
   "metadata": {},
   "source": [
    "Load up the solutions and multiple choice question function."
   ]
  },
  {
   "cell_type": "code",
   "execution_count": 3,
   "metadata": {},
   "outputs": [],
   "source": [
    "%%capture \n",
    "%run ./Solutions.ipynb "
   ]
  },
  {
   "cell_type": "markdown",
   "metadata": {
    "hideCode": true
   },
   "source": [
    "## Quiz\n",
    "\n",
    "This quiz tests materials in the notebook: \n",
    "[Maths refresher](http://localhost:8890/notebooks/Documents/Work/Teaching/MSc_HDS/Statistics/Test_notebooks/maths_refresher.ipynb). If you are struggling with the questions go back and re-read the relevant material.\n",
    "\n",
    "Each question is initially set to a default value. Choose the correct value and press submit."
   ]
  },
  {
   "cell_type": "markdown",
   "metadata": {},
   "source": [
    "Question 1:  What is $a^0$? \n",
    "\n",
    "1. $0$\n",
    "2. $1$\n",
    "3. $a$\n",
    "4. None of the above"
   ]
  },
  {
   "cell_type": "code",
   "execution_count": 62,
   "metadata": {
    "hideCode": false,
    "hidePrompt": false
   },
   "outputs": [
    {
     "data": {
      "application/vnd.jupyter.widget-view+json": {
       "model_id": "e962cd52c6134584830381ba4cdc6673",
       "version_major": 2,
       "version_minor": 0
      },
      "text/plain": [
       "VBox(children=(Output(), RadioButtons(options=((1, 0), (2, 1), (3, 2), (4, 3)), value=0), Button(description='…"
      ]
     },
     "metadata": {},
     "output_type": "display_data"
    }
   ],
   "source": [
    " display(qs1[\"Q1_1\"])"
   ]
  },
  {
   "cell_type": "markdown",
   "metadata": {},
   "source": [
    "Question 2: What is $3^2$?\n",
    "    \n",
    "1. $6$\n",
    "2. $8$\n",
    "3. $9$\n",
    "4. None of the above"
   ]
  },
  {
   "cell_type": "code",
   "execution_count": 63,
   "metadata": {},
   "outputs": [
    {
     "data": {
      "application/vnd.jupyter.widget-view+json": {
       "model_id": "c9adba17fe9f4bf38cd714c6c94b7ddd",
       "version_major": 2,
       "version_minor": 0
      },
      "text/plain": [
       "VBox(children=(Output(), RadioButtons(options=((1, 0), (2, 1), (3, 2), (4, 3)), value=0), Button(description='…"
      ]
     },
     "metadata": {},
     "output_type": "display_data"
    }
   ],
   "source": [
    " display(qs1[\"Q1_2\"])"
   ]
  },
  {
   "cell_type": "markdown",
   "metadata": {},
   "source": [
    "Question 3: What is $1^3$?\n",
    "    \n",
    "1. $1$\n",
    "2. $3$\n",
    "3. $\\frac{1}{3}$\n",
    "4. None of the above"
   ]
  },
  {
   "cell_type": "code",
   "execution_count": 64,
   "metadata": {},
   "outputs": [
    {
     "data": {
      "application/vnd.jupyter.widget-view+json": {
       "model_id": "dad8de3d0a0d427395875cd5118e4dcf",
       "version_major": 2,
       "version_minor": 0
      },
      "text/plain": [
       "VBox(children=(Output(), RadioButtons(options=((1, 0), (2, 1), (3, 2), (4, 3)), value=0), Button(description='…"
      ]
     },
     "metadata": {},
     "output_type": "display_data"
    }
   ],
   "source": [
    " display(qs1[\"Q1_3\"])"
   ]
  },
  {
   "cell_type": "markdown",
   "metadata": {},
   "source": [
    "Question 4: What is $2^{-3}$?\n",
    "\n",
    "1. $-6$\n",
    "2. $\\frac{1}{8}$\n",
    "3. $-9$\n",
    "4. None of the above"
   ]
  },
  {
   "cell_type": "code",
   "execution_count": 65,
   "metadata": {},
   "outputs": [
    {
     "data": {
      "application/vnd.jupyter.widget-view+json": {
       "model_id": "eded74fc38f44648a4f65d8a8f535417",
       "version_major": 2,
       "version_minor": 0
      },
      "text/plain": [
       "VBox(children=(Output(), RadioButtons(options=((1, 0), (2, 1), (3, 2), (4, 3)), value=0), Button(description='…"
      ]
     },
     "metadata": {},
     "output_type": "display_data"
    }
   ],
   "source": [
    " display(qs1[\"Q1_4\"])"
   ]
  },
  {
   "cell_type": "markdown",
   "metadata": {},
   "source": [
    "Question 5: What is $\\frac{4^3}{4^5}$?\n",
    "\n",
    "1. $4^8$\n",
    "2. $4^{-8}$\n",
    "3. $16^{-1}$\n",
    "4. None of the above"
   ]
  },
  {
   "cell_type": "code",
   "execution_count": 66,
   "metadata": {},
   "outputs": [
    {
     "data": {
      "application/vnd.jupyter.widget-view+json": {
       "model_id": "02b04c0f21034cc59c95d9f2c797c815",
       "version_major": 2,
       "version_minor": 0
      },
      "text/plain": [
       "VBox(children=(Output(), RadioButtons(options=((1, 0), (2, 1), (3, 2), (4, 3)), value=0), Button(description='…"
      ]
     },
     "metadata": {},
     "output_type": "display_data"
    }
   ],
   "source": [
    " display(qs1[\"Q1_5\"])"
   ]
  },
  {
   "cell_type": "markdown",
   "metadata": {},
   "source": [
    "Question 6: What is $\\left(3^{-3}\\right)^3$?\n",
    "\n",
    "1. $1$\n",
    "2. $3^{-9}$\n",
    "3. $3^{-27}$\n",
    "4. None of the above"
   ]
  },
  {
   "cell_type": "code",
   "execution_count": 67,
   "metadata": {},
   "outputs": [
    {
     "data": {
      "application/vnd.jupyter.widget-view+json": {
       "model_id": "67b7310db1614e58964597bf32f35346",
       "version_major": 2,
       "version_minor": 0
      },
      "text/plain": [
       "VBox(children=(Output(), RadioButtons(options=((1, 0), (2, 1), (3, 2), (4, 3)), value=0), Button(description='…"
      ]
     },
     "metadata": {},
     "output_type": "display_data"
    }
   ],
   "source": [
    " display(qs1[\"Q1_6\"])"
   ]
  },
  {
   "cell_type": "markdown",
   "metadata": {},
   "source": [
    "Question 7: What is $\\frac{5^2}{3^2}$?\n",
    "\n",
    "1. $\\left(\\frac{5}{3}\\right)^2$\n",
    "2. $\\left(\\frac{5}{3}\\right)^{-2}$\n",
    "3. $5^{-6}$\n",
    "4. None of the above"
   ]
  },
  {
   "cell_type": "code",
   "execution_count": 68,
   "metadata": {},
   "outputs": [
    {
     "data": {
      "application/vnd.jupyter.widget-view+json": {
       "model_id": "d9bd4c26bb2a47bb9e47ca50ede2dfbf",
       "version_major": 2,
       "version_minor": 0
      },
      "text/plain": [
       "VBox(children=(Output(), RadioButtons(options=((1, 0), (2, 1), (3, 2), (4, 3)), value=0), Button(description='…"
      ]
     },
     "metadata": {},
     "output_type": "display_data"
    }
   ],
   "source": [
    " display(qs1[\"Q1_7\"])"
   ]
  },
  {
   "cell_type": "markdown",
   "metadata": {},
   "source": [
    "Question 8: What is $4^3$?\n",
    "\n",
    "1. $12$\n",
    "2. $16$\n",
    "3. $2^6$\n",
    "4. None of the above"
   ]
  },
  {
   "cell_type": "code",
   "execution_count": 69,
   "metadata": {},
   "outputs": [
    {
     "data": {
      "application/vnd.jupyter.widget-view+json": {
       "model_id": "61e0888abbc44e968c931d8aef30cc31",
       "version_major": 2,
       "version_minor": 0
      },
      "text/plain": [
       "VBox(children=(Output(), RadioButtons(options=((1, 0), (2, 1), (3, 2), (4, 3)), value=0), Button(description='…"
      ]
     },
     "metadata": {},
     "output_type": "display_data"
    }
   ],
   "source": [
    " display(qs1[\"Q1_8\"])"
   ]
  },
  {
   "cell_type": "markdown",
   "metadata": {},
   "source": [
    "Question 9: What is $27^{-2/3}$?\n",
    "\n",
    "1. $\\frac{1}{18}$\n",
    "2. $\\frac{1}{81}$\n",
    "3. $\\frac{1}{9}$\n",
    "4. None of the above"
   ]
  },
  {
   "cell_type": "code",
   "execution_count": 70,
   "metadata": {},
   "outputs": [
    {
     "data": {
      "application/vnd.jupyter.widget-view+json": {
       "model_id": "bc48562f4b0e40818d0408a7cce97478",
       "version_major": 2,
       "version_minor": 0
      },
      "text/plain": [
       "VBox(children=(Output(), RadioButtons(options=((1, 0), (2, 1), (3, 2), (4, 3)), value=0), Button(description='…"
      ]
     },
     "metadata": {},
     "output_type": "display_data"
    }
   ],
   "source": [
    " display(qs1[\"Q1_9\"])"
   ]
  },
  {
   "cell_type": "markdown",
   "metadata": {},
   "source": [
    "Question 10: What is $log_{10}(10^n)$?\n",
    "\n",
    "1. $10 n$\n",
    "2. $n$\n",
    "3. $10^n$\n",
    "4. None of the above"
   ]
  },
  {
   "cell_type": "code",
   "execution_count": 71,
   "metadata": {},
   "outputs": [
    {
     "data": {
      "application/vnd.jupyter.widget-view+json": {
       "model_id": "d0910217c1c242c6a1ab92e8833a7e00",
       "version_major": 2,
       "version_minor": 0
      },
      "text/plain": [
       "VBox(children=(Output(), RadioButtons(options=((1, 0), (2, 1), (3, 2), (4, 3)), value=0), Button(description='…"
      ]
     },
     "metadata": {},
     "output_type": "display_data"
    }
   ],
   "source": [
    " display(qs1[\"Q1_10\"])"
   ]
  },
  {
   "cell_type": "markdown",
   "metadata": {},
   "source": [
    "Question 11: What is $log_{10}\\left(\\frac{10^4}{10^{-3}}\\right)$?\n",
    "\n",
    "1. $10^7$\n",
    "2. $1$\n",
    "3. $10$\n",
    "4. $7$"
   ]
  },
  {
   "cell_type": "code",
   "execution_count": 72,
   "metadata": {},
   "outputs": [
    {
     "data": {
      "application/vnd.jupyter.widget-view+json": {
       "model_id": "fa6f631cad274193bd0a2fb2eb71d4bd",
       "version_major": 2,
       "version_minor": 0
      },
      "text/plain": [
       "VBox(children=(Output(), RadioButtons(options=((1, 0), (2, 1), (3, 2), (4, 3)), value=0), Button(description='…"
      ]
     },
     "metadata": {},
     "output_type": "display_data"
    }
   ],
   "source": [
    " display(qs1[\"Q1_11\"])"
   ]
  },
  {
   "cell_type": "markdown",
   "metadata": {},
   "source": [
    "Question 12: What is $\\frac{1}{2} log_{10}(16)$?\n",
    "\n",
    "1. $4$\n",
    "2. $8$\n",
    "3. $log_{10}(2)$\n",
    "4. $log_{10}(4)$"
   ]
  },
  {
   "cell_type": "code",
   "execution_count": 73,
   "metadata": {},
   "outputs": [
    {
     "data": {
      "application/vnd.jupyter.widget-view+json": {
       "model_id": "06a6305b077f415381811830388e9656",
       "version_major": 2,
       "version_minor": 0
      },
      "text/plain": [
       "VBox(children=(Output(), RadioButtons(options=((1, 0), (2, 1), (3, 2), (4, 3)), value=0), Button(description='…"
      ]
     },
     "metadata": {},
     "output_type": "display_data"
    }
   ],
   "source": [
    " display(qs1[\"Q1_12\"])"
   ]
  },
  {
   "cell_type": "markdown",
   "metadata": {},
   "source": [
    "Question 13: What is $log_{10} [log_{10}(10)]$?\n",
    "\n",
    "1. $10$\n",
    "2. $1$\n",
    "3. $0$\n",
    "4. $-1$"
   ]
  },
  {
   "cell_type": "code",
   "execution_count": 74,
   "metadata": {},
   "outputs": [
    {
     "data": {
      "application/vnd.jupyter.widget-view+json": {
       "model_id": "f13c2527304747e6aa03ea01e8123409",
       "version_major": 2,
       "version_minor": 0
      },
      "text/plain": [
       "VBox(children=(Output(), RadioButtons(options=((1, 0), (2, 1), (3, 2), (4, 3)), value=0), Button(description='…"
      ]
     },
     "metadata": {},
     "output_type": "display_data"
    }
   ],
   "source": [
    " display(qs1[\"Q1_13\"])"
   ]
  },
  {
   "cell_type": "markdown",
   "metadata": {},
   "source": [
    "Question 14: What is $\\frac{log_{10}(1000)}{log_{10}(100)}$?\n",
    "\n",
    "1. $\\frac{3}{2}$\n",
    "2. $1$\n",
    "3. $-1$\n",
    "4. $10$"
   ]
  },
  {
   "cell_type": "code",
   "execution_count": 75,
   "metadata": {
    "scrolled": true
   },
   "outputs": [
    {
     "data": {
      "application/vnd.jupyter.widget-view+json": {
       "model_id": "9dc7b9d8e85f4f5ba895653744101c5a",
       "version_major": 2,
       "version_minor": 0
      },
      "text/plain": [
       "VBox(children=(Output(), RadioButtons(options=((1, 0), (2, 1), (3, 2), (4, 3)), value=0), Button(description='…"
      ]
     },
     "metadata": {},
     "output_type": "display_data"
    }
   ],
   "source": [
    " display(qs1[\"Q1_14\"])"
   ]
  },
  {
   "cell_type": "markdown",
   "metadata": {},
   "source": [
    "Question 15: Simplify the function \n",
    "\n",
    "$$ln \\left( \\prod_{i=1}^n p^x_i (1-p)^y_i \\right)$$\n",
    "\n",
    "Which of these can it be written as? \n",
    "\n",
    "1. $\\prod_i log(p^x_i) + \\prod_i log(1 - p)^y_i$\n",
    "2. $\\sum_i x_i log(p) \\times y_i log(1-p)$\n",
    "3. $\\left(\\sum_i x_i\\right) log(p) + \\left(\\sum_i y_i \\right) log(1-p)$ \n",
    "4. None of the above"
   ]
  },
  {
   "cell_type": "code",
   "execution_count": 76,
   "metadata": {},
   "outputs": [
    {
     "data": {
      "application/vnd.jupyter.widget-view+json": {
       "model_id": "40931e661ce94540ad2c699378a045d9",
       "version_major": 2,
       "version_minor": 0
      },
      "text/plain": [
       "VBox(children=(Output(), RadioButtons(options=((1, 0), (2, 1), (3, 2), (4, 3)), value=0), Button(description='…"
      ]
     },
     "metadata": {},
     "output_type": "display_data"
    }
   ],
   "source": [
    " display(qs1[\"Q1_15\"])"
   ]
  },
  {
   "cell_type": "markdown",
   "metadata": {},
   "source": [
    "Question 16: Simplify the function \n",
    "\n",
    "$$ln \\left( \\prod_{i=1}^n \\frac{e^{-\\lambda}\\lambda^{x_i}}{x_i!} \\right)$$\n",
    "\n",
    "Which of these can it be written as? \n",
    "\n",
    "1. $-n \\lambda + \\sum_i x_i log(\\lambda) - \\sum_i log(x!)$\n",
    "2. $\\prod_i \\lambda + \\prod_i log(\\lambda^x_i) + \\prod_i log\\left(\\frac{1}{x_i!}\\right)$\n",
    "3. $\\sum_i log(-\\lambda) + \\sum_i x_i log(\\lambda) - \\sum_i log(x!)$ \n",
    "4. None of the above"
   ]
  },
  {
   "cell_type": "code",
   "execution_count": 77,
   "metadata": {},
   "outputs": [
    {
     "data": {
      "application/vnd.jupyter.widget-view+json": {
       "model_id": "af9d6c2a5d2b4581882d1252ae20d636",
       "version_major": 2,
       "version_minor": 0
      },
      "text/plain": [
       "VBox(children=(Output(), RadioButtons(options=((1, 0), (2, 1), (3, 2), (4, 3)), value=0), Button(description='…"
      ]
     },
     "metadata": {},
     "output_type": "display_data"
    }
   ],
   "source": [
    " display(qs1[\"Q1_16\"])"
   ]
  }
 ],
 "metadata": {
  "celltoolbar": "Hide code",
  "kernelspec": {
   "display_name": "Python 3",
   "language": "python",
   "name": "python3"
  },
  "language_info": {
   "codemirror_mode": {
    "name": "ipython",
    "version": 3
   },
   "file_extension": ".py",
   "mimetype": "text/x-python",
   "name": "python",
   "nbconvert_exporter": "python",
   "pygments_lexer": "ipython3",
   "version": "3.7.7"
  }
 },
 "nbformat": 4,
 "nbformat_minor": 4
}
