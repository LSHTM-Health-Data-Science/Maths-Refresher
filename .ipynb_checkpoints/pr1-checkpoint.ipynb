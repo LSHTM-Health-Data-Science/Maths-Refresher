{
 "cells": [
  {
   "cell_type": "markdown",
   "metadata": {},
   "source": [
    "# Probability"
   ]
  },
  {
   "cell_type": "markdown",
   "metadata": {},
   "source": [
    "## We all have some intuitive sense of what probability is.\n",
    "I For example:\n",
    "I When tossing a coin the probability of obtaining a head is 0.5.\n",
    "I The probability that it will rain tomorrow in London is 0.8.\n",
    "I How can we de\f",
    "ne probability more formally?"
   ]
  }
 ],
 "metadata": {
  "kernelspec": {
   "display_name": "R",
   "language": "R",
   "name": "ir"
  },
  "language_info": {
   "codemirror_mode": "r",
   "file_extension": ".r",
   "mimetype": "text/x-r-source",
   "name": "R",
   "pygments_lexer": "r",
   "version": "3.6.1"
  }
 },
 "nbformat": 4,
 "nbformat_minor": 4
}
