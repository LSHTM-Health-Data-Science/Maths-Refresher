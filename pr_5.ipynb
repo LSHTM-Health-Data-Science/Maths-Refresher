{
 "cells": [
  {
   "cell_type": "markdown",
   "metadata": {},
   "source": [
    "# Distributions"
   ]
  },
  {
   "cell_type": "markdown",
   "metadata": {},
   "source": [
    "This page goes through some distributions that you may encounter during this year. "
   ]
  },
  {
   "cell_type": "markdown",
   "metadata": {},
   "source": [
    "## Discrete distributions"
   ]
  },
  {
   "cell_type": "markdown",
   "metadata": {},
   "source": [
    "### Bernoulli distribution"
   ]
  },
  {
   "cell_type": "markdown",
   "metadata": {},
   "source": [
    "The simplest discrete distribution that we are likely to encounter is the Bernouilli. The Bernoulli distribution corresponds to a single binary outcome (1=\"success\", 0=\"failure\"), with $P(X = 1) = \\pi$.\n",
    "\n",
    "The expectation and variance of a variable $X$ which follows a Bernoulli distribution are given by:\n",
    "\n",
    "- $E[X] = \\pi$\n",
    "- $Var(X) = \\pi(1-\\pi)$\n",
    "\n",
    "So if we randomly generate a value for $X$, it will either take the value of 0 or 1. If we do this many times (e.g. 50 times), then each of those 50 values will take the value either 0 or 1. On average, we expect the value to be $\\pi$. So if we simulate a large number of values, we expect the sample mean to be around $\\pi$. And we expect the sample variance to be around $\\pi(1-\\pi)$. \n",
    "\n",
    "The code below randomly generates values from a Bernoulli distribution. The first number is the number of values to draw (generate). The second number is always 1 for a Bernoulli distribution. The third number is the probability of success, $\\pi$. If you are reading this interactively, change the first and third number and see what happens to the individual values, sample mean and sample variance."
   ]
  },
  {
   "cell_type": "code",
   "execution_count": 26,
   "metadata": {},
   "outputs": [
    {
     "data": {
      "text/html": [
       "<ol class=list-inline>\n",
       "\t<li>1</li>\n",
       "\t<li>1</li>\n",
       "\t<li>1</li>\n",
       "\t<li>0</li>\n",
       "\t<li>1</li>\n",
       "\t<li>1</li>\n",
       "\t<li>0</li>\n",
       "\t<li>0</li>\n",
       "\t<li>1</li>\n",
       "\t<li>1</li>\n",
       "\t<li>1</li>\n",
       "\t<li>0</li>\n",
       "\t<li>0</li>\n",
       "\t<li>0</li>\n",
       "\t<li>0</li>\n",
       "\t<li>1</li>\n",
       "\t<li>1</li>\n",
       "\t<li>0</li>\n",
       "\t<li>1</li>\n",
       "\t<li>1</li>\n",
       "\t<li>0</li>\n",
       "\t<li>1</li>\n",
       "\t<li>0</li>\n",
       "\t<li>0</li>\n",
       "\t<li>1</li>\n",
       "\t<li>0</li>\n",
       "\t<li>0</li>\n",
       "\t<li>1</li>\n",
       "\t<li>0</li>\n",
       "\t<li>0</li>\n",
       "\t<li>1</li>\n",
       "\t<li>0</li>\n",
       "\t<li>0</li>\n",
       "\t<li>0</li>\n",
       "\t<li>0</li>\n",
       "\t<li>1</li>\n",
       "\t<li>1</li>\n",
       "\t<li>0</li>\n",
       "\t<li>0</li>\n",
       "\t<li>0</li>\n",
       "\t<li>0</li>\n",
       "\t<li>1</li>\n",
       "\t<li>1</li>\n",
       "\t<li>0</li>\n",
       "\t<li>1</li>\n",
       "\t<li>1</li>\n",
       "\t<li>0</li>\n",
       "\t<li>1</li>\n",
       "\t<li>0</li>\n",
       "\t<li>0</li>\n",
       "</ol>\n"
      ],
      "text/latex": [
       "\\begin{enumerate*}\n",
       "\\item 1\n",
       "\\item 1\n",
       "\\item 1\n",
       "\\item 0\n",
       "\\item 1\n",
       "\\item 1\n",
       "\\item 0\n",
       "\\item 0\n",
       "\\item 1\n",
       "\\item 1\n",
       "\\item 1\n",
       "\\item 0\n",
       "\\item 0\n",
       "\\item 0\n",
       "\\item 0\n",
       "\\item 1\n",
       "\\item 1\n",
       "\\item 0\n",
       "\\item 1\n",
       "\\item 1\n",
       "\\item 0\n",
       "\\item 1\n",
       "\\item 0\n",
       "\\item 0\n",
       "\\item 1\n",
       "\\item 0\n",
       "\\item 0\n",
       "\\item 1\n",
       "\\item 0\n",
       "\\item 0\n",
       "\\item 1\n",
       "\\item 0\n",
       "\\item 0\n",
       "\\item 0\n",
       "\\item 0\n",
       "\\item 1\n",
       "\\item 1\n",
       "\\item 0\n",
       "\\item 0\n",
       "\\item 0\n",
       "\\item 0\n",
       "\\item 1\n",
       "\\item 1\n",
       "\\item 0\n",
       "\\item 1\n",
       "\\item 1\n",
       "\\item 0\n",
       "\\item 1\n",
       "\\item 0\n",
       "\\item 0\n",
       "\\end{enumerate*}\n"
      ],
      "text/markdown": [
       "1. 1\n",
       "2. 1\n",
       "3. 1\n",
       "4. 0\n",
       "5. 1\n",
       "6. 1\n",
       "7. 0\n",
       "8. 0\n",
       "9. 1\n",
       "10. 1\n",
       "11. 1\n",
       "12. 0\n",
       "13. 0\n",
       "14. 0\n",
       "15. 0\n",
       "16. 1\n",
       "17. 1\n",
       "18. 0\n",
       "19. 1\n",
       "20. 1\n",
       "21. 0\n",
       "22. 1\n",
       "23. 0\n",
       "24. 0\n",
       "25. 1\n",
       "26. 0\n",
       "27. 0\n",
       "28. 1\n",
       "29. 0\n",
       "30. 0\n",
       "31. 1\n",
       "32. 0\n",
       "33. 0\n",
       "34. 0\n",
       "35. 0\n",
       "36. 1\n",
       "37. 1\n",
       "38. 0\n",
       "39. 0\n",
       "40. 0\n",
       "41. 0\n",
       "42. 1\n",
       "43. 1\n",
       "44. 0\n",
       "45. 1\n",
       "46. 1\n",
       "47. 0\n",
       "48. 1\n",
       "49. 0\n",
       "50. 0\n",
       "\n",
       "\n"
      ],
      "text/plain": [
       " [1] 1 1 1 0 1 1 0 0 1 1 1 0 0 0 0 1 1 0 1 1 0 1 0 0 1 0 0 1 0 0 1 0 0 0 0 1 1 0\n",
       "[39] 0 0 0 1 1 0 1 1 0 1 0 0"
      ]
     },
     "metadata": {},
     "output_type": "display_data"
    },
    {
     "data": {
      "text/html": [
       "0.46"
      ],
      "text/latex": [
       "0.46"
      ],
      "text/markdown": [
       "0.46"
      ],
      "text/plain": [
       "[1] 0.46"
      ]
     },
     "metadata": {},
     "output_type": "display_data"
    },
    {
     "data": {
      "text/html": [
       "0.253469387755102"
      ],
      "text/latex": [
       "0.253469387755102"
      ],
      "text/markdown": [
       "0.253469387755102"
      ],
      "text/plain": [
       "[1] 0.2534694"
      ]
     },
     "metadata": {},
     "output_type": "display_data"
    }
   ],
   "source": [
    "X <- rbinom(50, 1, 0.48)\n",
    "X\n",
    "mean(X)\n",
    "var(X)"
   ]
  },
  {
   "cell_type": "markdown",
   "metadata": {},
   "source": [
    "### Binomial distribution"
   ]
  },
  {
   "cell_type": "markdown",
   "metadata": {},
   "source": [
    "Now suppose we conduct many Bernoulli trials (we will call this number $n$) and combine the results together to form a single number --- the total number of \"successes\" among the $n$ trials. This number follows a Binomial distribution.\n",
    "\n",
    "If $X$ is the total number of successes from $n$ trials. Then $X$ follows a binomial distribution, \n",
    "\n",
    "$$\n",
    "X \\sim binomial(n; \\pi), \n",
    "$$\n",
    "\n",
    "The expectation and variance of a variable $X$ which follows a binomial distribution are given by:\n",
    "\n",
    "- $E[X] = n \\pi $\n",
    "- $Var(X) = n \\pi(1-\\pi)$\n",
    "\n",
    "\n",
    "The code below randomly generates values from a Binomial distribution. The first number is the number of values to draw (generate). The second number is the number of trials $n$. The third number is the probability of success, $\\pi$ within each trial. If you are reading this interactively, change the first and third number and see what happens to the individual values, sample mean and sample variance."
   ]
  },
  {
   "cell_type": "code",
   "execution_count": 29,
   "metadata": {},
   "outputs": [
    {
     "data": {
      "text/html": [
       "<ol class=list-inline>\n",
       "\t<li>2</li>\n",
       "\t<li>8</li>\n",
       "\t<li>5</li>\n",
       "\t<li>3</li>\n",
       "\t<li>4</li>\n",
       "\t<li>9</li>\n",
       "\t<li>6</li>\n",
       "\t<li>6</li>\n",
       "\t<li>8</li>\n",
       "\t<li>5</li>\n",
       "\t<li>8</li>\n",
       "\t<li>6</li>\n",
       "\t<li>6</li>\n",
       "\t<li>8</li>\n",
       "\t<li>3</li>\n",
       "\t<li>5</li>\n",
       "\t<li>4</li>\n",
       "\t<li>5</li>\n",
       "\t<li>4</li>\n",
       "\t<li>4</li>\n",
       "\t<li>6</li>\n",
       "\t<li>5</li>\n",
       "\t<li>5</li>\n",
       "\t<li>4</li>\n",
       "\t<li>4</li>\n",
       "\t<li>4</li>\n",
       "\t<li>6</li>\n",
       "\t<li>4</li>\n",
       "\t<li>4</li>\n",
       "\t<li>9</li>\n",
       "\t<li>5</li>\n",
       "\t<li>8</li>\n",
       "\t<li>5</li>\n",
       "\t<li>2</li>\n",
       "\t<li>1</li>\n",
       "\t<li>5</li>\n",
       "\t<li>4</li>\n",
       "\t<li>5</li>\n",
       "\t<li>5</li>\n",
       "\t<li>6</li>\n",
       "\t<li>4</li>\n",
       "\t<li>5</li>\n",
       "\t<li>5</li>\n",
       "\t<li>4</li>\n",
       "\t<li>6</li>\n",
       "\t<li>5</li>\n",
       "\t<li>6</li>\n",
       "\t<li>3</li>\n",
       "\t<li>3</li>\n",
       "\t<li>5</li>\n",
       "\t<li>5</li>\n",
       "\t<li>3</li>\n",
       "\t<li>6</li>\n",
       "\t<li>6</li>\n",
       "\t<li>5</li>\n",
       "\t<li>8</li>\n",
       "\t<li>4</li>\n",
       "\t<li>5</li>\n",
       "\t<li>4</li>\n",
       "\t<li>4</li>\n",
       "\t<li>6</li>\n",
       "\t<li>7</li>\n",
       "\t<li>4</li>\n",
       "\t<li>5</li>\n",
       "\t<li>4</li>\n",
       "\t<li>5</li>\n",
       "\t<li>5</li>\n",
       "\t<li>3</li>\n",
       "\t<li>2</li>\n",
       "\t<li>3</li>\n",
       "\t<li>3</li>\n",
       "\t<li>4</li>\n",
       "\t<li>3</li>\n",
       "\t<li>3</li>\n",
       "\t<li>5</li>\n",
       "\t<li>6</li>\n",
       "\t<li>5</li>\n",
       "\t<li>6</li>\n",
       "\t<li>6</li>\n",
       "\t<li>7</li>\n",
       "\t<li>5</li>\n",
       "\t<li>7</li>\n",
       "\t<li>3</li>\n",
       "\t<li>6</li>\n",
       "\t<li>3</li>\n",
       "\t<li>1</li>\n",
       "\t<li>5</li>\n",
       "\t<li>3</li>\n",
       "\t<li>4</li>\n",
       "\t<li>4</li>\n",
       "\t<li>6</li>\n",
       "\t<li>4</li>\n",
       "\t<li>4</li>\n",
       "\t<li>7</li>\n",
       "\t<li>2</li>\n",
       "\t<li>5</li>\n",
       "\t<li>6</li>\n",
       "\t<li>5</li>\n",
       "\t<li>6</li>\n",
       "\t<li>5</li>\n",
       "</ol>\n"
      ],
      "text/latex": [
       "\\begin{enumerate*}\n",
       "\\item 2\n",
       "\\item 8\n",
       "\\item 5\n",
       "\\item 3\n",
       "\\item 4\n",
       "\\item 9\n",
       "\\item 6\n",
       "\\item 6\n",
       "\\item 8\n",
       "\\item 5\n",
       "\\item 8\n",
       "\\item 6\n",
       "\\item 6\n",
       "\\item 8\n",
       "\\item 3\n",
       "\\item 5\n",
       "\\item 4\n",
       "\\item 5\n",
       "\\item 4\n",
       "\\item 4\n",
       "\\item 6\n",
       "\\item 5\n",
       "\\item 5\n",
       "\\item 4\n",
       "\\item 4\n",
       "\\item 4\n",
       "\\item 6\n",
       "\\item 4\n",
       "\\item 4\n",
       "\\item 9\n",
       "\\item 5\n",
       "\\item 8\n",
       "\\item 5\n",
       "\\item 2\n",
       "\\item 1\n",
       "\\item 5\n",
       "\\item 4\n",
       "\\item 5\n",
       "\\item 5\n",
       "\\item 6\n",
       "\\item 4\n",
       "\\item 5\n",
       "\\item 5\n",
       "\\item 4\n",
       "\\item 6\n",
       "\\item 5\n",
       "\\item 6\n",
       "\\item 3\n",
       "\\item 3\n",
       "\\item 5\n",
       "\\item 5\n",
       "\\item 3\n",
       "\\item 6\n",
       "\\item 6\n",
       "\\item 5\n",
       "\\item 8\n",
       "\\item 4\n",
       "\\item 5\n",
       "\\item 4\n",
       "\\item 4\n",
       "\\item 6\n",
       "\\item 7\n",
       "\\item 4\n",
       "\\item 5\n",
       "\\item 4\n",
       "\\item 5\n",
       "\\item 5\n",
       "\\item 3\n",
       "\\item 2\n",
       "\\item 3\n",
       "\\item 3\n",
       "\\item 4\n",
       "\\item 3\n",
       "\\item 3\n",
       "\\item 5\n",
       "\\item 6\n",
       "\\item 5\n",
       "\\item 6\n",
       "\\item 6\n",
       "\\item 7\n",
       "\\item 5\n",
       "\\item 7\n",
       "\\item 3\n",
       "\\item 6\n",
       "\\item 3\n",
       "\\item 1\n",
       "\\item 5\n",
       "\\item 3\n",
       "\\item 4\n",
       "\\item 4\n",
       "\\item 6\n",
       "\\item 4\n",
       "\\item 4\n",
       "\\item 7\n",
       "\\item 2\n",
       "\\item 5\n",
       "\\item 6\n",
       "\\item 5\n",
       "\\item 6\n",
       "\\item 5\n",
       "\\end{enumerate*}\n"
      ],
      "text/markdown": [
       "1. 2\n",
       "2. 8\n",
       "3. 5\n",
       "4. 3\n",
       "5. 4\n",
       "6. 9\n",
       "7. 6\n",
       "8. 6\n",
       "9. 8\n",
       "10. 5\n",
       "11. 8\n",
       "12. 6\n",
       "13. 6\n",
       "14. 8\n",
       "15. 3\n",
       "16. 5\n",
       "17. 4\n",
       "18. 5\n",
       "19. 4\n",
       "20. 4\n",
       "21. 6\n",
       "22. 5\n",
       "23. 5\n",
       "24. 4\n",
       "25. 4\n",
       "26. 4\n",
       "27. 6\n",
       "28. 4\n",
       "29. 4\n",
       "30. 9\n",
       "31. 5\n",
       "32. 8\n",
       "33. 5\n",
       "34. 2\n",
       "35. 1\n",
       "36. 5\n",
       "37. 4\n",
       "38. 5\n",
       "39. 5\n",
       "40. 6\n",
       "41. 4\n",
       "42. 5\n",
       "43. 5\n",
       "44. 4\n",
       "45. 6\n",
       "46. 5\n",
       "47. 6\n",
       "48. 3\n",
       "49. 3\n",
       "50. 5\n",
       "51. 5\n",
       "52. 3\n",
       "53. 6\n",
       "54. 6\n",
       "55. 5\n",
       "56. 8\n",
       "57. 4\n",
       "58. 5\n",
       "59. 4\n",
       "60. 4\n",
       "61. 6\n",
       "62. 7\n",
       "63. 4\n",
       "64. 5\n",
       "65. 4\n",
       "66. 5\n",
       "67. 5\n",
       "68. 3\n",
       "69. 2\n",
       "70. 3\n",
       "71. 3\n",
       "72. 4\n",
       "73. 3\n",
       "74. 3\n",
       "75. 5\n",
       "76. 6\n",
       "77. 5\n",
       "78. 6\n",
       "79. 6\n",
       "80. 7\n",
       "81. 5\n",
       "82. 7\n",
       "83. 3\n",
       "84. 6\n",
       "85. 3\n",
       "86. 1\n",
       "87. 5\n",
       "88. 3\n",
       "89. 4\n",
       "90. 4\n",
       "91. 6\n",
       "92. 4\n",
       "93. 4\n",
       "94. 7\n",
       "95. 2\n",
       "96. 5\n",
       "97. 6\n",
       "98. 5\n",
       "99. 6\n",
       "100. 5\n",
       "\n",
       "\n"
      ],
      "text/plain": [
       "  [1] 2 8 5 3 4 9 6 6 8 5 8 6 6 8 3 5 4 5 4 4 6 5 5 4 4 4 6 4 4 9 5 8 5 2 1 5 4\n",
       " [38] 5 5 6 4 5 5 4 6 5 6 3 3 5 5 3 6 6 5 8 4 5 4 4 6 7 4 5 4 5 5 3 2 3 3 4 3 3\n",
       " [75] 5 6 5 6 6 7 5 7 3 6 3 1 5 3 4 4 6 4 4 7 2 5 6 5 6 5"
      ]
     },
     "metadata": {},
     "output_type": "display_data"
    },
    {
     "data": {
      "text/html": [
       "4.85"
      ],
      "text/latex": [
       "4.85"
      ],
      "text/markdown": [
       "4.85"
      ],
      "text/plain": [
       "[1] 4.85"
      ]
     },
     "metadata": {},
     "output_type": "display_data"
    },
    {
     "data": {
      "text/html": [
       "2.63383838383838"
      ],
      "text/latex": [
       "2.63383838383838"
      ],
      "text/markdown": [
       "2.63383838383838"
      ],
      "text/plain": [
       "[1] 2.633838"
      ]
     },
     "metadata": {},
     "output_type": "display_data"
    },
    {
     "data": {
      "image/png": "[encoded data removed]",
      "text/plain": [
       "Plot with title \"Histogram of X\""
      ]
     },
     "metadata": {},
     "output_type": "display_data"
    }
   ],
   "source": [
    "X <- rbinom(100, 10, 0.48)\n",
    "X\n",
    "hist(X)\n",
    "mean(X)\n",
    "var(X)"
   ]
  },
  {
   "cell_type": "markdown",
   "metadata": {},
   "source": [
    "## Continuous distributions"
   ]
  },
  {
   "cell_type": "markdown",
   "metadata": {},
   "source": [
    "### The normal (Gaussian) distribution"
   ]
  },
  {
   "cell_type": "markdown",
   "metadata": {},
   "source": [
    "The normal distribution has a 'bell-shape'. It is centred around its mean, $\\mu$. The spread of the different values is determined by the variance, $\\sigma^2$.\n",
    "\n",
    "If a variable $X$ follows a normal distribution, we write\n",
    "\n",
    "$$\n",
    "X \\sim N(\\mu, \\sigma^2)\n",
    "$$\n",
    "\n",
    "The code below (in R) simulates 1000 observations from a normal distribution. If you are reading these notes interactively, try changing the values $\\mu$ and $\\sigma^2$ in the first two lines and see how the histogram of values change.\n",
    "\n",
    "If you would like to see the values generated, try adding the lines of code `head(r)` and `summary(r)`."
   ]
  },
  {
   "cell_type": "code",
   "execution_count": 13,
   "metadata": {},
   "outputs": [
    {
     "data": {
      "image/png": "[encoded data removed]",
      "text/plain": [
       "Plot with title \"Histogram of X\""
      ]
     },
     "metadata": {},
     "output_type": "display_data"
    }
   ],
   "source": [
    "mu <- 13\n",
    "sigma2 <- 5\n",
    "X <- rnorm(1000, mu, sigma2)\n",
    "hist(X)"
   ]
  }
 ],
 "metadata": {
  "kernelspec": {
   "display_name": "R",
   "language": "R",
   "name": "ir"
  },
  "language_info": {
   "codemirror_mode": "r",
   "file_extension": ".r",
   "mimetype": "text/x-r-source",
   "name": "R",
   "pygments_lexer": "r",
   "version": "3.6.1"
  }
 },
 "nbformat": 4,
 "nbformat_minor": 4
}
